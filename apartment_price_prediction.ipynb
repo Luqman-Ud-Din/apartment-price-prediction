{
 "cells": [
  {
   "cell_type": "code",
   "execution_count": 1,
   "metadata": {},
   "outputs": [],
   "source": [
    "import json\n",
    "import re\n",
    "\n",
    "import pandas as pd\n",
    "import numpy as np"
   ]
  },
  {
   "cell_type": "markdown",
   "metadata": {},
   "source": [
    "**Reading Data Files**"
   ]
  },
  {
   "cell_type": "code",
   "execution_count": 2,
   "metadata": {},
   "outputs": [],
   "source": [
    "building_meta_df =  pd.read_csv(\"buildings.csv\")\n",
    "building_info_df = pd.read_csv(\"building_info.csv\")\n",
    "building_price_history_df = pd.read_csv(\"building_pricing_history.csv\")\n",
    "building_unit_df = pd.read_csv(\"building_unit_data.csv\")"
   ]
  },
  {
   "cell_type": "markdown",
   "metadata": {},
   "source": [
    "**Listing Column Names with Null Values Count**"
   ]
  },
  {
   "cell_type": "code",
   "execution_count": 3,
   "metadata": {},
   "outputs": [
    {
     "data": {
      "text/plain": [
       "id                0\n",
       "name              0\n",
       "address           0\n",
       "city              0\n",
       "state             0\n",
       "description     634\n",
       "lat               3\n",
       "lng               3\n",
       "created_at        0\n",
       "zip            3602\n",
       "type           7284\n",
       "cooperate         0\n",
       "summary        7007\n",
       "company_id     1352\n",
       "dtype: int64"
      ]
     },
     "execution_count": 3,
     "metadata": {},
     "output_type": "execute_result"
    }
   ],
   "source": [
    "building_meta_df.isnull().sum()"
   ]
  },
  {
   "cell_type": "code",
   "execution_count": 4,
   "metadata": {},
   "outputs": [
    {
     "data": {
      "text/plain": [
       "id                                  0\n",
       "company                          1165\n",
       "website                          5394\n",
       "phone                             809\n",
       "email                            7024\n",
       "pet_policy                       1866\n",
       "amenities                        1446\n",
       "neighborhood_name                4827\n",
       "neighborhood_area                6465\n",
       "washer_dryer                     5607\n",
       "no_of_units                      6897\n",
       "balcony                          5292\n",
       "parking                          7029\n",
       "short_term_lease                 7145\n",
       "tour_sunday                      6995\n",
       "cooperation_percentage              0\n",
       "concession_months_additional        0\n",
       "scraper_complete                 7044\n",
       "website_reachable                7220\n",
       "website_needs_ui_navigation      7220\n",
       "website_data_in_images           7220\n",
       "data_source                      7044\n",
       "year_built                       6935\n",
       "nearest_grocery_store            7097\n",
       "nearest_convenience_store        7096\n",
       "nearest_public_transportation    7099\n",
       "concession_0_bed                    0\n",
       "concession_1_bed                    0\n",
       "concession_2_bed                    0\n",
       "concession_3_bed                    0\n",
       "concession_additional               0\n",
       "concession_title                 6959\n",
       "leasing_type                     7220\n",
       "concession_update                   0\n",
       "flooring                         7071\n",
       "unit_0_balcony                   6984\n",
       "unit_convert_balcony             6984\n",
       "unit_1_balcony                   6984\n",
       "unit_2_balcony                   6983\n",
       "unit_3_balcony                   6983\n",
       "age                              6937\n",
       "pool                             6919\n",
       "architect                        7182\n",
       "aptamigo                         7091\n",
       "hotspot_features                 7111\n",
       "hotspot_neighbourhood            7111\n",
       "hotspot_description              7114\n",
       "hotspot                          7111\n",
       "concession_source                7128\n",
       "dtype: int64"
      ]
     },
     "execution_count": 4,
     "metadata": {},
     "output_type": "execute_result"
    }
   ],
   "source": [
    "building_info_df.isna().sum()"
   ]
  },
  {
   "cell_type": "code",
   "execution_count": 5,
   "metadata": {},
   "outputs": [
    {
     "data": {
      "text/plain": [
       "id                      0\n",
       "price              269271\n",
       "available_date    3573698\n",
       "created_on              0\n",
       "dtype: int64"
      ]
     },
     "execution_count": 5,
     "metadata": {},
     "output_type": "execute_result"
    }
   ],
   "source": [
    "building_price_history_df.isna().sum()"
   ]
  },
  {
   "cell_type": "code",
   "execution_count": 6,
   "metadata": {},
   "outputs": [
    {
     "data": {
      "text/plain": [
       "id                     0\n",
       "building_id            0\n",
       "floor               1762\n",
       "unit_number        38149\n",
       "beds                   0\n",
       "baths                  0\n",
       "sqft                   0\n",
       "price                  0\n",
       "available_date    175790\n",
       "created_on             0\n",
       "updated_on        142204\n",
       "scraped_on             0\n",
       "scrape_id              0\n",
       "floorplan          26704\n",
       "net_price          81787\n",
       "price_change      419001\n",
       "dtype: int64"
      ]
     },
     "execution_count": 6,
     "metadata": {},
     "output_type": "execute_result"
    }
   ],
   "source": [
    "building_unit_df.isna().sum()"
   ]
  },
  {
   "cell_type": "markdown",
   "metadata": {},
   "source": [
    "**Listing DataFrame Shapes**"
   ]
  },
  {
   "cell_type": "code",
   "execution_count": 7,
   "metadata": {},
   "outputs": [
    {
     "data": {
      "text/plain": [
       "(7315, 14)"
      ]
     },
     "execution_count": 7,
     "metadata": {},
     "output_type": "execute_result"
    }
   ],
   "source": [
    "building_meta_df.shape"
   ]
  },
  {
   "cell_type": "code",
   "execution_count": 8,
   "metadata": {},
   "outputs": [
    {
     "data": {
      "text/plain": [
       "(7220, 49)"
      ]
     },
     "execution_count": 8,
     "metadata": {},
     "output_type": "execute_result"
    }
   ],
   "source": [
    "building_info_df.shape"
   ]
  },
  {
   "cell_type": "code",
   "execution_count": 9,
   "metadata": {},
   "outputs": [
    {
     "data": {
      "text/plain": [
       "(3924626, 4)"
      ]
     },
     "execution_count": 9,
     "metadata": {},
     "output_type": "execute_result"
    }
   ],
   "source": [
    "building_price_history_df.shape"
   ]
  },
  {
   "cell_type": "code",
   "execution_count": 10,
   "metadata": {},
   "outputs": [
    {
     "data": {
      "text/plain": [
       "(421620, 16)"
      ]
     },
     "execution_count": 10,
     "metadata": {},
     "output_type": "execute_result"
    }
   ],
   "source": [
    "building_unit_df.shape"
   ]
  },
  {
   "cell_type": "markdown",
   "metadata": {},
   "source": [
    "**Merging building_meta_df, building_info_df and building_unit_df**"
   ]
  },
  {
   "cell_type": "code",
   "execution_count": 11,
   "metadata": {},
   "outputs": [],
   "source": [
    "merged_df = pd.merge(building_meta_df, building_info_df, left_on='id', right_on='id', how='left')\n",
    "merged_df.rename(columns={'id': 'building_id'}, inplace=True)\n",
    "merged_df = pd.merge(merged_df, building_unit_df, left_on='building_id', right_on='building_id', how='inner')"
   ]
  },
  {
   "cell_type": "code",
   "execution_count": 12,
   "metadata": {},
   "outputs": [
    {
     "data": {
      "text/plain": [
       "(421620, 77)"
      ]
     },
     "execution_count": 12,
     "metadata": {},
     "output_type": "execute_result"
    }
   ],
   "source": [
    "merged_df.shape"
   ]
  },
  {
   "cell_type": "markdown",
   "metadata": {},
   "source": [
    "**Calculating Average Price neighborhood_name**"
   ]
  },
  {
   "cell_type": "code",
   "execution_count": 13,
   "metadata": {},
   "outputs": [],
   "source": [
    "merged_df['average_price_by_neighborhood'] = merged_df.groupby(['neighborhood_name'])['price'].transform('mean')"
   ]
  },
  {
   "cell_type": "markdown",
   "metadata": {},
   "source": [
    "**Parse nearest_public_transportation into public_transportation and public_transportation_time**"
   ]
  },
  {
   "cell_type": "code",
   "execution_count": 14,
   "metadata": {},
   "outputs": [],
   "source": [
    "def parse_public_transportation(row):\n",
    "    try:\n",
    "        transportation = json.loads(row['nearest_public_transportation'])[0]\n",
    "        transportation = re.sub(r'\\(.*\\)|\\d+[\\s-]+(?:min).*$', '', transportation)\n",
    "        return re.sub(r'[\\s-]+$', '', transportation)\n",
    "    except:\n",
    "        return\n",
    "\n",
    "def parse_public_transportation_time(row):\n",
    "    try:\n",
    "        transportation = json.loads(row['nearest_public_transportation'])[0]\n",
    "        time = re.findall(r'(\\d+)[\\s-]+min', transportation)\n",
    "        return time and int(time[0]) or None\n",
    "    except:\n",
    "        return"
   ]
  },
  {
   "cell_type": "code",
   "execution_count": 15,
   "metadata": {},
   "outputs": [],
   "source": [
    "merged_df['public_transportation'] = merged_df.apply(parse_public_transportation, axis=1)\n",
    "merged_df['public_transportation_time'] = merged_df.apply(parse_public_transportation_time, axis=1)"
   ]
  },
  {
   "cell_type": "markdown",
   "metadata": {},
   "source": [
    "**Parse nearest_convenience_store into convenience_store and convenience_store_time**"
   ]
  },
  {
   "cell_type": "code",
   "execution_count": 16,
   "metadata": {
    "pycharm": {
     "name": "#%%\n"
    }
   },
   "outputs": [],
   "source": [
    "def parse_convenience_store_time(row):\n",
    "    times = []\n",
    "    try:\n",
    "        for _store in json.loads(row['nearest_convenience_store']):\n",
    "            time = re.findall(r'(\\d+)[\\s-]+min', _store)\n",
    "            \n",
    "            if not time:\n",
    "                continue\n",
    "            \n",
    "            times.append(int(time[0]))\n",
    "\n",
    "        return min(times)\n",
    "    except:\n",
    "        return\n",
    "    \n",
    "def parse_convenience_store(row):\n",
    "    min_time = parse_convenience_store_time(row)\n",
    "    try:\n",
    "        for _store in json.loads(row['nearest_convenience_store']):\n",
    "            time = re.findall(r'(\\d+)[\\s-]+min', _store)\n",
    "            time = time and int(time[0]) or None\n",
    "            \n",
    "            if time != min_time:\n",
    "                continue\n",
    "\n",
    "            return re.sub(r'[\\s-]+$', '', re.sub(r'\\(.*\\)|\\d+[\\s-]+(?:min).*$', '', _store))\n",
    "        return json.loads(row['nearest_convenience_store'])[0]\n",
    "    except:\n",
    "        return "
   ]
  },
  {
   "cell_type": "code",
   "execution_count": 17,
   "metadata": {},
   "outputs": [],
   "source": [
    "merged_df['convenience_store'] = merged_df.apply(parse_convenience_store, axis=1)\n",
    "merged_df['convenience_store_time'] = merged_df.apply(parse_convenience_store_time, axis=1)"
   ]
  },
  {
   "cell_type": "markdown",
   "metadata": {},
   "source": [
    "**Parse nearest_grocery_store into grocery_store and grocery_store_time**"
   ]
  },
  {
   "cell_type": "code",
   "execution_count": 18,
   "metadata": {},
   "outputs": [],
   "source": [
    "def parse_grocery_store_time(row):\n",
    "    times = []\n",
    "    try:\n",
    "        for _store in json.loads(row['nearest_grocery_store']):\n",
    "            time = re.findall(r'(\\d+)[\\s-]+min', _store)\n",
    "            \n",
    "            if not time:\n",
    "                continue\n",
    "            \n",
    "            times.append(int(time[0]))\n",
    "\n",
    "        return min(times)\n",
    "    except:\n",
    "        return\n",
    "    \n",
    "def parse_grocery_store(row):\n",
    "    min_time = parse_grocery_store_time(row)\n",
    "    try:\n",
    "        for _store in json.loads(row['nearest_grocery_store']):\n",
    "            time = re.findall(r'(\\d+)[\\s-]+min', _store)\n",
    "            time = time and int(time[0]) or None\n",
    "            \n",
    "            if time != min_time:\n",
    "                continue\n",
    "\n",
    "            return re.sub(r'[\\s-]+$', '', re.sub(r'\\(.*\\)|\\d+[\\s-]+(?:min).*$', '', _store))\n",
    "        return json.loads(row['nearest_grocery_store'])[0]\n",
    "    except:\n",
    "        return "
   ]
  },
  {
   "cell_type": "code",
   "execution_count": 19,
   "metadata": {},
   "outputs": [],
   "source": [
    "merged_df['grocery_store'] = merged_df.apply(parse_grocery_store, axis=1)\n",
    "merged_df['grocery_store_time'] = merged_df.apply(parse_grocery_store_time, axis=1)"
   ]
  },
  {
   "cell_type": "markdown",
   "metadata": {},
   "source": [
    "**Map unit_0_balcony, unit_1_balcony, unit_2_balcony, unit_2_balcony to unit_balcony**"
   ]
  },
  {
   "cell_type": "code",
   "execution_count": 20,
   "metadata": {},
   "outputs": [],
   "source": [
    "def map_balcony(row):\n",
    "    \n",
    "    if row['unit_0_balcony'] == 'Yes' and row['beds'] == 0:\n",
    "        return 1\n",
    "    \n",
    "    if row['unit_1_balcony'] == 'Yes' and row['beds'] == 1:\n",
    "        return 1\n",
    "    \n",
    "    if row['unit_2_balcony'] == 'Yes' and row['beds'] == 2:\n",
    "        return 1\n",
    "    \n",
    "    if row['unit_3_balcony'] == 'Yes' and row['beds'] == 3:\n",
    "        return 1\n",
    "      \n",
    "    if row['beds'] > 3:\n",
    "        \n",
    "        if 'Yes' in [row['unit_0_balcony'],\n",
    "                     row['unit_1_balcony'],\n",
    "                     row['unit_2_balcony'],\n",
    "                     row['unit_3_balcony']]:\n",
    "            return 1\n",
    "        return 0\n",
    "    \n",
    "    return 0"
   ]
  },
  {
   "cell_type": "code",
   "execution_count": 21,
   "metadata": {},
   "outputs": [],
   "source": [
    "merged_df['unit_balcony'] = merged_df.apply(lambda row: map_balcony(row), axis=1)"
   ]
  },
  {
   "cell_type": "markdown",
   "metadata": {},
   "source": [
    "**Map concession_0_bed, concession_1_bed, concession_2_bed, concession_3_bed to concession_beds**"
   ]
  },
  {
   "cell_type": "code",
   "execution_count": 22,
   "metadata": {},
   "outputs": [],
   "source": [
    "def map_concession(row):\n",
    "    \n",
    "    if row['concession_0_bed'] == 1 and row['beds'] == 0:\n",
    "        return 1\n",
    "    \n",
    "    if row['concession_1_bed'] == 1 and row['beds'] == 1:\n",
    "        return 1\n",
    "    \n",
    "    if row['concession_2_bed'] == 1 and row['beds'] == 2:\n",
    "        return 1\n",
    "    \n",
    "    if row['concession_3_bed'] == 1 and row['beds'] == 3:\n",
    "        return 1\n",
    "    \n",
    "    if row['beds'] > 3:\n",
    "        if 1 in [row['concession_0_bed'],\n",
    "                 row['concession_1_bed'],\n",
    "                 row['concession_2_bed'],\n",
    "                 row['concession_3_bed']]:\n",
    "            return 1\n",
    "        return 0\n",
    "    \n",
    "    return 0"
   ]
  },
  {
   "cell_type": "code",
   "execution_count": 23,
   "metadata": {},
   "outputs": [],
   "source": [
    "merged_df['concession_beds'] = merged_df.apply(lambda row: map_concession(row), axis=1)"
   ]
  },
  {
   "cell_type": "markdown",
   "metadata": {},
   "source": [
    "**Drop extra columns**"
   ]
  },
  {
   "cell_type": "code",
   "execution_count": 24,
   "metadata": {},
   "outputs": [],
   "source": [
    "to_drop = ['scraped_on', \n",
    "           'scrape_id', \n",
    "           'hotspot_description',\n",
    "           'website_data_in_images',\n",
    "           'website_needs_ui_navigation', \n",
    "           'website_reachable',\n",
    "           'scraper_complete',\n",
    "           'data_source',\n",
    "           'leasing_type',\n",
    "           'architect',\n",
    "           'aptamigo',\n",
    "           'hotspot_features',\n",
    "           'hotspot_neighbourhood',\n",
    "           'hotspot',\n",
    "           'balcony',\n",
    "           'unit_0_balcony',\n",
    "           'unit_convert_balcony',\n",
    "           'unit_1_balcony',\n",
    "           'unit_2_balcony',\n",
    "           'unit_3_balcony',\n",
    "           'concession_title',\n",
    "           'concession_0_bed',\n",
    "           'concession_1_bed',\n",
    "           'concession_2_bed',\n",
    "           'concession_3_bed',\n",
    "           'concession_source',\n",
    "           'nearest_public_transportation',\n",
    "           'nearest_convenience_store',\n",
    "           'nearest_grocery_store',\n",
    "           'unit_number',\n",
    "           'type',\n",
    "           'email',\n",
    "           'updated_on',\n",
    "           'created_on',\n",
    "           'created_at',\n",
    "           'summary',\n",
    "           'description',\n",
    "           'address',\n",
    "           'name',\n",
    "           'website',\n",
    "           'phone',\n",
    "           'email',\n",
    "           'zip',\n",
    "           'amenities',\n",
    "           'no_of_units',\n",
    "          ]"
   ]
  },
  {
   "cell_type": "code",
   "execution_count": 25,
   "metadata": {},
   "outputs": [
    {
     "data": {
      "text/plain": [
       "(421620, 42)"
      ]
     },
     "execution_count": 25,
     "metadata": {},
     "output_type": "execute_result"
    }
   ],
   "source": [
    "merged_df.drop(columns=to_drop, inplace=True)\n",
    "merged_df.shape"
   ]
  },
  {
   "cell_type": "markdown",
   "metadata": {},
   "source": [
    "**Handling Missing Value**"
   ]
  },
  {
   "cell_type": "code",
   "execution_count": 27,
   "metadata": {},
   "outputs": [
    {
     "name": "stdout",
     "output_type": "stream",
     "text": [
      "['No' 'Yes' nan 'Select Units']\n"
     ]
    }
   ],
   "source": [
    "print(merged_df.washer_dryer.unique())\n",
    "merged_df['washer_dryer'].fillna('No', inplace=True)"
   ]
  },
  {
   "cell_type": "code",
   "execution_count": 28,
   "metadata": {},
   "outputs": [
    {
     "name": "stdout",
     "output_type": "stream",
     "text": [
      "[nan 'Yes' 'No' 'Garage Parking' 'Attached Parking' 'Offsite Parking'\n",
      " 'Select Units' 'Assigned Parking']\n"
     ]
    }
   ],
   "source": [
    "print(merged_df.parking.unique())\n",
    "merged_df['parking'].fillna('No', inplace=True)"
   ]
  },
  {
   "cell_type": "code",
   "execution_count": 29,
   "metadata": {},
   "outputs": [
    {
     "name": "stdout",
     "output_type": "stream",
     "text": [
      "['Yes' nan 'No']\n"
     ]
    }
   ],
   "source": [
    "print(merged_df.pool.unique())\n",
    "merged_df['pool'].fillna('No', inplace=True)"
   ]
  },
  {
   "cell_type": "code",
   "execution_count": 30,
   "metadata": {},
   "outputs": [
    {
     "name": "stdout",
     "output_type": "stream",
     "text": [
      "[False nan True]\n"
     ]
    }
   ],
   "source": [
    "print(merged_df.tour_sunday.unique())\n",
    "merged_df['tour_sunday'].fillna('No', inplace=True)"
   ]
  },
  {
   "cell_type": "code",
   "execution_count": 35,
   "metadata": {},
   "outputs": [
    {
     "name": "stdout",
     "output_type": "stream",
     "text": [
      "[nan 'No' 'Sometimes' 'Yes' 'During Peak Season']\n"
     ]
    }
   ],
   "source": [
    "print(merged_df.short_term_lease.unique())\n",
    "merged_df['short_term_lease'].fillna('No', inplace=True)"
   ]
  },
  {
   "cell_type": "code",
   "execution_count": 36,
   "metadata": {},
   "outputs": [
    {
     "data": {
      "text/plain": [
       "building_id                           0\n",
       "city                                  0\n",
       "state                                 0\n",
       "lat                                  11\n",
       "lng                                  11\n",
       "cooperate                             0\n",
       "company_id                        10183\n",
       "company                            9684\n",
       "pet_policy                        16904\n",
       "neighborhood_name                253295\n",
       "neighborhood_area                356398\n",
       "washer_dryer                          0\n",
       "parking                               0\n",
       "short_term_lease                      0\n",
       "tour_sunday                           0\n",
       "cooperation_percentage             8908\n",
       "concession_months_additional       8908\n",
       "year_built                       372942\n",
       "concession_additional              8908\n",
       "concession_update                  8908\n",
       "flooring                         395517\n",
       "age                              373192\n",
       "pool                                  0\n",
       "id                                    0\n",
       "floor                              1762\n",
       "beds                                  0\n",
       "baths                                 0\n",
       "sqft                                  0\n",
       "price                                 0\n",
       "available_date                   175790\n",
       "floorplan                         26704\n",
       "net_price                         81787\n",
       "price_change                     419001\n",
       "average_price_by_neighborhood    253295\n",
       "public_transportation            404449\n",
       "public_transportation_time       404449\n",
       "convenience_store                403783\n",
       "convenience_store_time           403783\n",
       "grocery_store                    403831\n",
       "grocery_store_time               403984\n",
       "unit_balcony                          0\n",
       "concession_beds                       0\n",
       "dtype: int64"
      ]
     },
     "execution_count": 36,
     "metadata": {},
     "output_type": "execute_result"
    }
   ],
   "source": [
    "merged_df.isna().sum()"
   ]
  },
  {
   "cell_type": "code",
   "execution_count": null,
   "metadata": {},
   "outputs": [],
   "source": []
  }
 ],
 "metadata": {
  "kernelspec": {
   "display_name": "Python 3",
   "language": "python",
   "name": "python3"
  },
  "language_info": {
   "codemirror_mode": {
    "name": "ipython",
    "version": 3
   },
   "file_extension": ".py",
   "mimetype": "text/x-python",
   "name": "python",
   "nbconvert_exporter": "python",
   "pygments_lexer": "ipython3",
   "version": "3.9.1"
  }
 },
 "nbformat": 4,
 "nbformat_minor": 1
}
