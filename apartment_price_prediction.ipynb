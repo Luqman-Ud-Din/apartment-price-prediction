{
 "cells": [
  {
   "cell_type": "code",
   "execution_count": 3,
   "metadata": {},
   "outputs": [],
   "source": [
    "import json\n",
    "import re\n",
    "\n",
    "import pandas as pd\n",
    "import numpy as np"
   ]
  },
  {
   "cell_type": "markdown",
   "metadata": {},
   "source": [
    "**Reading Data Files**"
   ]
  },
  {
   "cell_type": "code",
   "execution_count": 4,
   "metadata": {},
   "outputs": [],
   "source": [
    "building_meta_df =  pd.read_csv(\"buildings.csv\")\n",
    "building_info_df = pd.read_csv(\"building_info.csv\")\n",
    "building_price_history_df = pd.read_csv(\"building_pricing_history.csv\")\n",
    "building_unit_df = pd.read_csv(\"building_unit_data.csv\")"
   ]
  },
  {
   "cell_type": "markdown",
   "metadata": {},
   "source": [
    "**Listing Column Names with Null Values Count**"
   ]
  },
  {
   "cell_type": "code",
   "execution_count": null,
   "metadata": {},
   "outputs": [],
   "source": [
    "building_meta_df.isnull().sum()"
   ]
  },
  {
   "cell_type": "code",
   "execution_count": null,
   "metadata": {},
   "outputs": [],
   "source": [
    "building_info_df.isna().sum()"
   ]
  },
  {
   "cell_type": "code",
   "execution_count": null,
   "metadata": {},
   "outputs": [],
   "source": [
    "building_price_history_df.isna().sum()"
   ]
  },
  {
   "cell_type": "code",
   "execution_count": null,
   "metadata": {},
   "outputs": [],
   "source": [
    "building_unit_df.isna().sum()"
   ]
  },
  {
   "cell_type": "markdown",
   "metadata": {},
   "source": [
    "**Listing DataFrame Shapes**"
   ]
  },
  {
   "cell_type": "code",
   "execution_count": null,
   "metadata": {},
   "outputs": [],
   "source": [
    "building_meta_df.shape"
   ]
  },
  {
   "cell_type": "code",
   "execution_count": null,
   "metadata": {},
   "outputs": [],
   "source": [
    "building_info_df.shape"
   ]
  },
  {
   "cell_type": "code",
   "execution_count": null,
   "metadata": {},
   "outputs": [],
   "source": [
    "building_price_history_df.shape"
   ]
  },
  {
   "cell_type": "code",
   "execution_count": null,
   "metadata": {},
   "outputs": [],
   "source": [
    "building_unit_df.shape"
   ]
  },
  {
   "cell_type": "markdown",
   "metadata": {},
   "source": [
    "**Merging building_meta_df, building_info_df and building_unit_df**"
   ]
  },
  {
   "cell_type": "code",
   "execution_count": 5,
   "metadata": {},
   "outputs": [],
   "source": [
    "merged_df = pd.merge(building_meta_df, building_info_df, left_on='id', right_on='id', how='left')\n",
    "merged_df.rename(columns={'id': 'building_id'}, inplace=True)\n",
    "merged_df = pd.merge(merged_df, building_unit_df, left_on='building_id', right_on='building_id', how='inner')"
   ]
  },
  {
   "cell_type": "code",
   "execution_count": null,
   "metadata": {},
   "outputs": [],
   "source": [
    "merged_df.shape"
   ]
  },
  {
   "cell_type": "markdown",
   "metadata": {},
   "source": [
    "**Calculating Average Price neighborhood_name**"
   ]
  },
  {
   "cell_type": "code",
   "execution_count": 6,
   "metadata": {},
   "outputs": [],
   "source": [
    "merged_df['average_price_by_neighborhood'] = merged_df.groupby(['neighborhood_name', 'beds'])['price'].transform('mean')"
   ]
  },
  {
   "cell_type": "markdown",
   "metadata": {},
   "source": [
    "**Parse nearest_public_transportation into public_transportation and public_transportation_time**"
   ]
  },
  {
   "cell_type": "code",
   "execution_count": 7,
   "metadata": {},
   "outputs": [],
   "source": [
    "def parse_public_transportation(row):\n",
    "    try:\n",
    "        transportation = json.loads(row['nearest_public_transportation'])[0]\n",
    "        transportation = re.sub(r'\\(.*\\)|\\d+[\\s-]+(?:min).*$', '', transportation)\n",
    "        return re.sub(r'[\\s-]+$', '', transportation)\n",
    "    except:\n",
    "        return\n",
    "\n",
    "def parse_public_transportation_time(row):\n",
    "    try:\n",
    "        transportation = json.loads(row['nearest_public_transportation'])[0]\n",
    "        time = re.findall(r'(\\d+)[\\s-]+min', transportation)\n",
    "        return time and int(time[0]) or None\n",
    "    except:\n",
    "        return"
   ]
  },
  {
   "cell_type": "code",
   "execution_count": 8,
   "metadata": {},
   "outputs": [],
   "source": [
    "merged_df['public_transportation'] = merged_df.apply(parse_public_transportation, axis=1)\n",
    "merged_df['public_transportation_time'] = merged_df.apply(parse_public_transportation_time, axis=1)"
   ]
  },
  {
   "cell_type": "markdown",
   "metadata": {},
   "source": [
    "**Parse nearest_convenience_store into convenience_store and convenience_store_time**"
   ]
  },
  {
   "cell_type": "code",
   "execution_count": 9,
   "metadata": {
    "pycharm": {
     "name": "#%%\n"
    }
   },
   "outputs": [],
   "source": [
    "def parse_convenience_store_time(row):\n",
    "    times = []\n",
    "    try:\n",
    "        for _store in json.loads(row['nearest_convenience_store']):\n",
    "            time = re.findall(r'(\\d+)[\\s-]+min', _store)\n",
    "            \n",
    "            if not time:\n",
    "                continue\n",
    "            \n",
    "            times.append(int(time[0]))\n",
    "\n",
    "        return min(times)\n",
    "    except:\n",
    "        return\n",
    "    \n",
    "def parse_convenience_store(row):\n",
    "    min_time = parse_convenience_store_time(row)\n",
    "    try:\n",
    "        for _store in json.loads(row['nearest_convenience_store']):\n",
    "            time = re.findall(r'(\\d+)[\\s-]+min', _store)\n",
    "            time = time and int(time[0]) or None\n",
    "            \n",
    "            if time != min_time:\n",
    "                continue\n",
    "\n",
    "            return re.sub(r'[\\s-]+$', '', re.sub(r'\\(.*\\)|\\d+[\\s-]+(?:min).*$', '', _store))\n",
    "        return json.loads(row['nearest_convenience_store'])[0]\n",
    "    except:\n",
    "        return "
   ]
  },
  {
   "cell_type": "code",
   "execution_count": 10,
   "metadata": {},
   "outputs": [],
   "source": [
    "merged_df['convenience_store'] = merged_df.apply(parse_convenience_store, axis=1)\n",
    "merged_df['convenience_store_time'] = merged_df.apply(parse_convenience_store_time, axis=1)"
   ]
  },
  {
   "cell_type": "markdown",
   "metadata": {},
   "source": [
    "**Parse nearest_grocery_store into grocery_store and grocery_store_time**"
   ]
  },
  {
   "cell_type": "code",
   "execution_count": 11,
   "metadata": {},
   "outputs": [],
   "source": [
    "def parse_grocery_store_time(row):\n",
    "    times = []\n",
    "    try:\n",
    "        for _store in json.loads(row['nearest_grocery_store']):\n",
    "            time = re.findall(r'(\\d+)[\\s-]+min', _store)\n",
    "            \n",
    "            if not time:\n",
    "                continue\n",
    "            \n",
    "            times.append(int(time[0]))\n",
    "\n",
    "        return min(times)\n",
    "    except:\n",
    "        return\n",
    "    \n",
    "def parse_grocery_store(row):\n",
    "    min_time = parse_grocery_store_time(row)\n",
    "    try:\n",
    "        for _store in json.loads(row['nearest_grocery_store']):\n",
    "            time = re.findall(r'(\\d+)[\\s-]+min', _store)\n",
    "            time = time and int(time[0]) or None\n",
    "            \n",
    "            if time != min_time:\n",
    "                continue\n",
    "\n",
    "            return re.sub(r'[\\s-]+$', '', re.sub(r'\\(.*\\)|\\d+[\\s-]+(?:min).*$', '', _store))\n",
    "        return json.loads(row['nearest_grocery_store'])[0]\n",
    "    except:\n",
    "        return "
   ]
  },
  {
   "cell_type": "code",
   "execution_count": 12,
   "metadata": {},
   "outputs": [],
   "source": [
    "merged_df['grocery_store'] = merged_df.apply(parse_grocery_store, axis=1)\n",
    "merged_df['grocery_store_time'] = merged_df.apply(parse_grocery_store_time, axis=1)"
   ]
  },
  {
   "cell_type": "markdown",
   "metadata": {},
   "source": [
    "**Map unit_0_balcony, unit_1_balcony, unit_2_balcony, unit_2_balcony to unit_balcony**"
   ]
  },
  {
   "cell_type": "code",
   "execution_count": 13,
   "metadata": {},
   "outputs": [],
   "source": [
    "def map_balcony(row):\n",
    "    \n",
    "    if row['unit_0_balcony'] == 'Yes' and row['beds'] == 0:\n",
    "        return 1\n",
    "    \n",
    "    if row['unit_1_balcony'] == 'Yes' and row['beds'] == 1:\n",
    "        return 1\n",
    "    \n",
    "    if row['unit_2_balcony'] == 'Yes' and row['beds'] == 2:\n",
    "        return 1\n",
    "    \n",
    "    if row['unit_3_balcony'] == 'Yes' and row['beds'] == 3:\n",
    "        return 1\n",
    "      \n",
    "    if row['beds'] > 3:\n",
    "        \n",
    "        if 'Yes' in [row['unit_0_balcony'],\n",
    "                     row['unit_1_balcony'],\n",
    "                     row['unit_2_balcony'],\n",
    "                     row['unit_3_balcony']]:\n",
    "            return 1\n",
    "        return 0\n",
    "    \n",
    "    return 0"
   ]
  },
  {
   "cell_type": "code",
   "execution_count": 15,
   "metadata": {},
   "outputs": [],
   "source": [
    "merged_df['unit_balcony'] = merged_df.apply(map_balcony, axis=1)"
   ]
  },
  {
   "cell_type": "markdown",
   "metadata": {},
   "source": [
    "**Map concession_0_bed, concession_1_bed, concession_2_bed, concession_3_bed to concession_beds**"
   ]
  },
  {
   "cell_type": "code",
   "execution_count": 16,
   "metadata": {},
   "outputs": [],
   "source": [
    "def map_concession(row):\n",
    "    \n",
    "    if row['beds'] == 0 and  np.isnan(row['concession_0_bed']) == False:\n",
    "        return row['concession_0_bed']\n",
    "    \n",
    "    if  row['beds'] == 1 and  np.isnan(row['concession_1_bed']) == False:\n",
    "        return row['concession_1_bed']\n",
    "    \n",
    "    if  row['beds'] == 2 and  np.isnan(row['concession_2_bed']) == False:\n",
    "        return row['concession_2_bed']\n",
    "    \n",
    "    if  row['beds'] == 3 and  np.isnan(row['concession_3_bed']) == False:\n",
    "        return row['concession_3_bed']\n",
    "    \n",
    "    if row['beds'] > 3:\n",
    "        min_concession = min([row['concession_0_bed'],\n",
    "                              row['concession_1_bed'],\n",
    "                              row['concession_2_bed'],\n",
    "                              row['concession_3_bed']])\n",
    "        return min_concession\n",
    "    \n",
    "    return None"
   ]
  },
  {
   "cell_type": "code",
   "execution_count": 17,
   "metadata": {},
   "outputs": [
    {
     "data": {
      "text/plain": [
       "array([ 0. ,  1. ,  nan,  2. ,  1.5,  3. ,  2.5, 20. ,  0.5])"
      ]
     },
     "execution_count": 17,
     "metadata": {},
     "output_type": "execute_result"
    }
   ],
   "source": [
    "merged_df['concession_unit'] = merged_df.apply(map_concession, axis=1)\n",
    "merged_df['concession_unit'].unique()\n"
   ]
  },
  {
   "cell_type": "code",
   "execution_count": 18,
   "metadata": {},
   "outputs": [],
   "source": [
    "merged_df['concession_unit'].fillna(merged_df['concession_unit'].mean(), inplace=True)"
   ]
  },
  {
   "cell_type": "markdown",
   "metadata": {},
   "source": [
    "**Handling Missing Value**"
   ]
  },
  {
   "cell_type": "code",
   "execution_count": 19,
   "metadata": {},
   "outputs": [],
   "source": [
    "def map_washer_dryer(row):\n",
    "    if not row['washer_dryer'] in [None, 'No']:\n",
    "        return 0\n",
    "\n",
    "    if not row['washer_dryer'] in ['Yes', 'Select Units']:\n",
    "        return 1\n",
    "    \n",
    "    return 0"
   ]
  },
  {
   "cell_type": "code",
   "execution_count": 20,
   "metadata": {},
   "outputs": [],
   "source": [
    "merged_df['washer_dryer'] = merged_df.apply(map_washer_dryer, axis=1)"
   ]
  },
  {
   "cell_type": "code",
   "execution_count": 21,
   "metadata": {},
   "outputs": [],
   "source": [
    "def map_pool(row):\n",
    "    if not row['pool'] in [None, 'No']:\n",
    "        return 0\n",
    "\n",
    "    if not row['pool'] == 'Yes':\n",
    "        return 1\n",
    "    \n",
    "    return 0"
   ]
  },
  {
   "cell_type": "code",
   "execution_count": 22,
   "metadata": {},
   "outputs": [],
   "source": [
    "merged_df['pool'] = merged_df.apply(map_pool, axis=1)"
   ]
  },
  {
   "cell_type": "code",
   "execution_count": 23,
   "metadata": {},
   "outputs": [],
   "source": [
    "def map_parking(row):\n",
    "    parking_terms = [\n",
    "        'Yes', 'Garage Parking', 'Attached Parking', \n",
    "        'Offsite Parking', 'Select Units', 'Assigned Parking'\n",
    "    ]\n",
    "    \n",
    "    if not row['parking'] in [None, 'No']:\n",
    "        return 0\n",
    "\n",
    "    if not row['parking'] in parking_terms:\n",
    "        return 1\n",
    "    \n",
    "    return 0"
   ]
  },
  {
   "cell_type": "code",
   "execution_count": 24,
   "metadata": {},
   "outputs": [],
   "source": [
    "merged_df['parking'] = merged_df.apply(map_parking, axis=1)"
   ]
  },
  {
   "cell_type": "code",
   "execution_count": 25,
   "metadata": {},
   "outputs": [
    {
     "data": {
      "text/plain": [
       "array([False, nan, True], dtype=object)"
      ]
     },
     "execution_count": 25,
     "metadata": {},
     "output_type": "execute_result"
    }
   ],
   "source": [
    "merged_df.tour_sunday.unique()"
   ]
  },
  {
   "cell_type": "code",
   "execution_count": 26,
   "metadata": {},
   "outputs": [],
   "source": [
    "def map_tour_sunday(row):\n",
    "    if not row['tour_sunday'] in [None, False]:\n",
    "        return 0\n",
    "\n",
    "    if not row['tour_sunday'] == True:\n",
    "        return 1\n",
    "    \n",
    "    return 0\n",
    "    "
   ]
  },
  {
   "cell_type": "code",
   "execution_count": 27,
   "metadata": {},
   "outputs": [],
   "source": [
    "merged_df['tour_sunday'] = merged_df.apply(map_parking, axis=1)"
   ]
  },
  {
   "cell_type": "code",
   "execution_count": 28,
   "metadata": {},
   "outputs": [
    {
     "data": {
      "text/plain": [
       "array([nan, 'No', 'Sometimes', 'Yes', 'During Peak Season'], dtype=object)"
      ]
     },
     "execution_count": 28,
     "metadata": {},
     "output_type": "execute_result"
    }
   ],
   "source": [
    "merged_df.short_term_lease.unique()"
   ]
  },
  {
   "cell_type": "code",
   "execution_count": 29,
   "metadata": {},
   "outputs": [],
   "source": [
    "def map_short_term_lease(row):\n",
    "    if not row['short_term_lease'] in [None, 'No']:\n",
    "        return 0\n",
    "\n",
    "    if not row['short_term_lease'] == ['Sometimes', 'Yes', 'During Peak Season']:\n",
    "        return 1\n",
    "    \n",
    "    return 0\n",
    "    "
   ]
  },
  {
   "cell_type": "code",
   "execution_count": 30,
   "metadata": {},
   "outputs": [],
   "source": [
    "merged_df['short_term_lease'] = merged_df.apply(map_parking, axis=1)"
   ]
  },
  {
   "cell_type": "code",
   "execution_count": 31,
   "metadata": {},
   "outputs": [
    {
     "data": {
      "text/plain": [
       "array([ True, False])"
      ]
     },
     "execution_count": 31,
     "metadata": {},
     "output_type": "execute_result"
    }
   ],
   "source": [
    "merged_df['cooperate'].unique()"
   ]
  },
  {
   "cell_type": "code",
   "execution_count": 32,
   "metadata": {},
   "outputs": [],
   "source": [
    "merged_df['cooperate'] = merged_df['cooperate'].map(lambda x: 1 if x == True else 0)"
   ]
  },
  {
   "cell_type": "code",
   "execution_count": 33,
   "metadata": {},
   "outputs": [],
   "source": [
    "merged_df['grocery_store'].replace([None], 'Unknown', inplace=True)\n",
    "merged_df['grocery_store_time'].fillna(merged_df['grocery_store_time'].mean(), inplace=True)"
   ]
  },
  {
   "cell_type": "code",
   "execution_count": 34,
   "metadata": {},
   "outputs": [],
   "source": [
    "merged_df['convenience_store'].replace([None], 'Unknown', inplace=True)\n",
    "merged_df['convenience_store_time'].fillna(merged_df['convenience_store_time'].mean(), inplace=True)"
   ]
  },
  {
   "cell_type": "code",
   "execution_count": 35,
   "metadata": {},
   "outputs": [],
   "source": [
    "merged_df['public_transportation'].replace([None], 'Unknown', inplace=True)\n",
    "merged_df['public_transportation_time'].fillna(merged_df['public_transportation_time'].mean(), inplace=True)"
   ]
  },
  {
   "cell_type": "markdown",
   "metadata": {},
   "source": [
    "**Label Encoding**"
   ]
  },
  {
   "cell_type": "code",
   "execution_count": 36,
   "metadata": {},
   "outputs": [],
   "source": [
    "grocery_store_df = pd.get_dummies(merged_df[['grocery_store']], columns=[\"grocery_store\"])\n",
    "merged_df = merged_df.join(grocery_store_df)"
   ]
  },
  {
   "cell_type": "code",
   "execution_count": 37,
   "metadata": {},
   "outputs": [],
   "source": [
    "convenience_store_df = pd.get_dummies(merged_df[['convenience_store']], columns=[\"convenience_store\"])\n",
    "merged_df = merged_df.join(convenience_store_df)"
   ]
  },
  {
   "cell_type": "code",
   "execution_count": 38,
   "metadata": {},
   "outputs": [],
   "source": [
    "public_transportation_df = pd.get_dummies(merged_df[['public_transportation']], columns=[\"public_transportation\"])\n",
    "merged_df = merged_df.join(public_transportation_df)"
   ]
  },
  {
   "cell_type": "code",
   "execution_count": 41,
   "metadata": {},
   "outputs": [
    {
     "data": {
      "text/plain": [
       "414197"
      ]
     },
     "execution_count": 41,
     "metadata": {},
     "output_type": "execute_result"
    }
   ],
   "source": [
    "merged_df.type.isna().sum()"
   ]
  },
  {
   "cell_type": "markdown",
   "metadata": {},
   "source": [
    "**Drop extra columns**"
   ]
  },
  {
   "cell_type": "code",
   "execution_count": 42,
   "metadata": {},
   "outputs": [],
   "source": [
    "to_drop = ['scraped_on', \n",
    "           'scrape_id', \n",
    "           'hotspot_description',\n",
    "           'website_data_in_images',\n",
    "           'website_needs_ui_navigation', \n",
    "           'website_reachable',\n",
    "           'scraper_complete',\n",
    "           'data_source',\n",
    "           #'leasing_type',\n",
    "           #'architect',\n",
    "           #'aptamigo',\n",
    "           #'hotspot_features',\n",
    "           'hotspot_neighbourhood',\n",
    "           'hotspot',\n",
    "           'balcony',\n",
    "           'unit_0_balcony',\n",
    "           'unit_convert_balcony',\n",
    "           'unit_1_balcony',\n",
    "           'unit_2_balcony',\n",
    "           'unit_3_balcony',\n",
    "           'concession_title',\n",
    "           'concession_0_bed',\n",
    "           'concession_1_bed',\n",
    "           'concession_2_bed',\n",
    "           'concession_3_bed',\n",
    "           'concession_source',\n",
    "           'nearest_public_transportation',\n",
    "           'nearest_convenience_store',\n",
    "           'nearest_grocery_store',\n",
    "           #'unit_number',\n",
    "           'type',\n",
    "           'email',\n",
    "           #'updated_on',\n",
    "           #'created_on',\n",
    "           #'created_at',\n",
    "           'summary',\n",
    "           'description',\n",
    "           'address',\n",
    "           'name',\n",
    "           'website',\n",
    "           'phone',\n",
    "           'email',\n",
    "           'zip',\n",
    "           #'amenities',\n",
    "           #'no_of_units',\n",
    "          ]"
   ]
  },
  {
   "cell_type": "code",
   "execution_count": 43,
   "metadata": {},
   "outputs": [
    {
     "data": {
      "text/plain": [
       "(421620, 143)"
      ]
     },
     "execution_count": 43,
     "metadata": {},
     "output_type": "execute_result"
    }
   ],
   "source": [
    "merged_df.drop(columns=to_drop, inplace=True)\n",
    "merged_df.shape"
   ]
  },
  {
   "cell_type": "code",
   "execution_count": 45,
   "metadata": {},
   "outputs": [],
   "source": [
    "merged_df.to_csv('cleaned_output.csv', index=False)"
   ]
  },
  {
   "cell_type": "code",
   "execution_count": 46,
   "metadata": {},
   "outputs": [
    {
     "data": {
      "text/html": [
       "<div>\n",
       "<style scoped>\n",
       "    .dataframe tbody tr th:only-of-type {\n",
       "        vertical-align: middle;\n",
       "    }\n",
       "\n",
       "    .dataframe tbody tr th {\n",
       "        vertical-align: top;\n",
       "    }\n",
       "\n",
       "    .dataframe thead th {\n",
       "        text-align: right;\n",
       "    }\n",
       "</style>\n",
       "<table border=\"1\" class=\"dataframe\">\n",
       "  <thead>\n",
       "    <tr style=\"text-align: right;\">\n",
       "      <th></th>\n",
       "      <th>building_id</th>\n",
       "      <th>city</th>\n",
       "      <th>state</th>\n",
       "      <th>lat</th>\n",
       "      <th>lng</th>\n",
       "      <th>created_at</th>\n",
       "      <th>cooperate</th>\n",
       "      <th>company_id</th>\n",
       "      <th>company</th>\n",
       "      <th>pet_policy</th>\n",
       "      <th>...</th>\n",
       "      <th>public_transportation_Red Line - Lasalle/Division</th>\n",
       "      <th>public_transportation_Red Line - Loyola (</th>\n",
       "      <th>public_transportation_Red Line - Roosevelt</th>\n",
       "      <th>public_transportation_Red Line- Chicago</th>\n",
       "      <th>public_transportation_Red Line- Grand</th>\n",
       "      <th>public_transportation_Red Line- Roosevelt</th>\n",
       "      <th>public_transportation_Red/Brown/Purple Line - Belmont</th>\n",
       "      <th>public_transportation_Red/Brown/Purple Line - Fullerton</th>\n",
       "      <th>public_transportation_Red/Green/Pink Line - Roosevelt</th>\n",
       "      <th>public_transportation_Unknown</th>\n",
       "    </tr>\n",
       "  </thead>\n",
       "  <tbody>\n",
       "    <tr>\n",
       "      <th>0</th>\n",
       "      <td>216</td>\n",
       "      <td>Chicago</td>\n",
       "      <td>IL</td>\n",
       "      <td>41.889181</td>\n",
       "      <td>-87.618089</td>\n",
       "      <td>2019-08-17 02:47:14</td>\n",
       "      <td>1</td>\n",
       "      <td>333.0</td>\n",
       "      <td>Lincoln Property Company</td>\n",
       "      <td>Allowed with fee and Restrictions</td>\n",
       "      <td>...</td>\n",
       "      <td>0</td>\n",
       "      <td>0</td>\n",
       "      <td>0</td>\n",
       "      <td>0</td>\n",
       "      <td>0</td>\n",
       "      <td>0</td>\n",
       "      <td>0</td>\n",
       "      <td>0</td>\n",
       "      <td>0</td>\n",
       "      <td>1</td>\n",
       "    </tr>\n",
       "    <tr>\n",
       "      <th>1</th>\n",
       "      <td>216</td>\n",
       "      <td>Chicago</td>\n",
       "      <td>IL</td>\n",
       "      <td>41.889181</td>\n",
       "      <td>-87.618089</td>\n",
       "      <td>2019-08-17 02:47:14</td>\n",
       "      <td>1</td>\n",
       "      <td>333.0</td>\n",
       "      <td>Lincoln Property Company</td>\n",
       "      <td>Allowed with fee and Restrictions</td>\n",
       "      <td>...</td>\n",
       "      <td>0</td>\n",
       "      <td>0</td>\n",
       "      <td>0</td>\n",
       "      <td>0</td>\n",
       "      <td>0</td>\n",
       "      <td>0</td>\n",
       "      <td>0</td>\n",
       "      <td>0</td>\n",
       "      <td>0</td>\n",
       "      <td>1</td>\n",
       "    </tr>\n",
       "    <tr>\n",
       "      <th>2</th>\n",
       "      <td>216</td>\n",
       "      <td>Chicago</td>\n",
       "      <td>IL</td>\n",
       "      <td>41.889181</td>\n",
       "      <td>-87.618089</td>\n",
       "      <td>2019-08-17 02:47:14</td>\n",
       "      <td>1</td>\n",
       "      <td>333.0</td>\n",
       "      <td>Lincoln Property Company</td>\n",
       "      <td>Allowed with fee and Restrictions</td>\n",
       "      <td>...</td>\n",
       "      <td>0</td>\n",
       "      <td>0</td>\n",
       "      <td>0</td>\n",
       "      <td>0</td>\n",
       "      <td>0</td>\n",
       "      <td>0</td>\n",
       "      <td>0</td>\n",
       "      <td>0</td>\n",
       "      <td>0</td>\n",
       "      <td>1</td>\n",
       "    </tr>\n",
       "    <tr>\n",
       "      <th>3</th>\n",
       "      <td>216</td>\n",
       "      <td>Chicago</td>\n",
       "      <td>IL</td>\n",
       "      <td>41.889181</td>\n",
       "      <td>-87.618089</td>\n",
       "      <td>2019-08-17 02:47:14</td>\n",
       "      <td>1</td>\n",
       "      <td>333.0</td>\n",
       "      <td>Lincoln Property Company</td>\n",
       "      <td>Allowed with fee and Restrictions</td>\n",
       "      <td>...</td>\n",
       "      <td>0</td>\n",
       "      <td>0</td>\n",
       "      <td>0</td>\n",
       "      <td>0</td>\n",
       "      <td>0</td>\n",
       "      <td>0</td>\n",
       "      <td>0</td>\n",
       "      <td>0</td>\n",
       "      <td>0</td>\n",
       "      <td>1</td>\n",
       "    </tr>\n",
       "    <tr>\n",
       "      <th>4</th>\n",
       "      <td>216</td>\n",
       "      <td>Chicago</td>\n",
       "      <td>IL</td>\n",
       "      <td>41.889181</td>\n",
       "      <td>-87.618089</td>\n",
       "      <td>2019-08-17 02:47:14</td>\n",
       "      <td>1</td>\n",
       "      <td>333.0</td>\n",
       "      <td>Lincoln Property Company</td>\n",
       "      <td>Allowed with fee and Restrictions</td>\n",
       "      <td>...</td>\n",
       "      <td>0</td>\n",
       "      <td>0</td>\n",
       "      <td>0</td>\n",
       "      <td>0</td>\n",
       "      <td>0</td>\n",
       "      <td>0</td>\n",
       "      <td>0</td>\n",
       "      <td>0</td>\n",
       "      <td>0</td>\n",
       "      <td>1</td>\n",
       "    </tr>\n",
       "  </tbody>\n",
       "</table>\n",
       "<p>5 rows × 143 columns</p>\n",
       "</div>"
      ],
      "text/plain": [
       "   building_id     city state        lat        lng           created_at  \\\n",
       "0          216  Chicago    IL  41.889181 -87.618089  2019-08-17 02:47:14   \n",
       "1          216  Chicago    IL  41.889181 -87.618089  2019-08-17 02:47:14   \n",
       "2          216  Chicago    IL  41.889181 -87.618089  2019-08-17 02:47:14   \n",
       "3          216  Chicago    IL  41.889181 -87.618089  2019-08-17 02:47:14   \n",
       "4          216  Chicago    IL  41.889181 -87.618089  2019-08-17 02:47:14   \n",
       "\n",
       "   cooperate  company_id                   company  \\\n",
       "0          1       333.0  Lincoln Property Company   \n",
       "1          1       333.0  Lincoln Property Company   \n",
       "2          1       333.0  Lincoln Property Company   \n",
       "3          1       333.0  Lincoln Property Company   \n",
       "4          1       333.0  Lincoln Property Company   \n",
       "\n",
       "                          pet_policy  ...  \\\n",
       "0  Allowed with fee and Restrictions  ...   \n",
       "1  Allowed with fee and Restrictions  ...   \n",
       "2  Allowed with fee and Restrictions  ...   \n",
       "3  Allowed with fee and Restrictions  ...   \n",
       "4  Allowed with fee and Restrictions  ...   \n",
       "\n",
       "  public_transportation_Red Line - Lasalle/Division  \\\n",
       "0                                                 0   \n",
       "1                                                 0   \n",
       "2                                                 0   \n",
       "3                                                 0   \n",
       "4                                                 0   \n",
       "\n",
       "  public_transportation_Red Line - Loyola (  \\\n",
       "0                                         0   \n",
       "1                                         0   \n",
       "2                                         0   \n",
       "3                                         0   \n",
       "4                                         0   \n",
       "\n",
       "  public_transportation_Red Line - Roosevelt  \\\n",
       "0                                          0   \n",
       "1                                          0   \n",
       "2                                          0   \n",
       "3                                          0   \n",
       "4                                          0   \n",
       "\n",
       "   public_transportation_Red Line- Chicago  \\\n",
       "0                                        0   \n",
       "1                                        0   \n",
       "2                                        0   \n",
       "3                                        0   \n",
       "4                                        0   \n",
       "\n",
       "   public_transportation_Red Line- Grand  \\\n",
       "0                                      0   \n",
       "1                                      0   \n",
       "2                                      0   \n",
       "3                                      0   \n",
       "4                                      0   \n",
       "\n",
       "   public_transportation_Red Line- Roosevelt  \\\n",
       "0                                          0   \n",
       "1                                          0   \n",
       "2                                          0   \n",
       "3                                          0   \n",
       "4                                          0   \n",
       "\n",
       "   public_transportation_Red/Brown/Purple Line - Belmont  \\\n",
       "0                                                  0       \n",
       "1                                                  0       \n",
       "2                                                  0       \n",
       "3                                                  0       \n",
       "4                                                  0       \n",
       "\n",
       "   public_transportation_Red/Brown/Purple Line - Fullerton  \\\n",
       "0                                                  0         \n",
       "1                                                  0         \n",
       "2                                                  0         \n",
       "3                                                  0         \n",
       "4                                                  0         \n",
       "\n",
       "   public_transportation_Red/Green/Pink Line - Roosevelt  \\\n",
       "0                                                  0       \n",
       "1                                                  0       \n",
       "2                                                  0       \n",
       "3                                                  0       \n",
       "4                                                  0       \n",
       "\n",
       "   public_transportation_Unknown  \n",
       "0                              1  \n",
       "1                              1  \n",
       "2                              1  \n",
       "3                              1  \n",
       "4                              1  \n",
       "\n",
       "[5 rows x 143 columns]"
      ]
     },
     "execution_count": 46,
     "metadata": {},
     "output_type": "execute_result"
    }
   ],
   "source": [
    "merged_df.head()"
   ]
  },
  {
   "cell_type": "code",
   "execution_count": null,
   "metadata": {},
   "outputs": [],
   "source": []
  }
 ],
 "metadata": {
  "kernelspec": {
   "display_name": "Python 3",
   "language": "python",
   "name": "python3"
  },
  "language_info": {
   "codemirror_mode": {
    "name": "ipython",
    "version": 3
   },
   "file_extension": ".py",
   "mimetype": "text/x-python",
   "name": "python",
   "nbconvert_exporter": "python",
   "pygments_lexer": "ipython3",
   "version": "3.9.1"
  }
 },
 "nbformat": 4,
 "nbformat_minor": 1
}
