{
 "cells": [
  {
   "cell_type": "code",
   "execution_count": 1,
   "metadata": {},
   "outputs": [],
   "source": [
    "import json\n",
    "import re\n",
    "import pandas as pd\n",
    "import numpy as np\n",
    "import matplotlib.pyplot as plt"
   ]
  },
  {
   "cell_type": "markdown",
   "metadata": {},
   "source": [
    "**Reading Data Files**"
   ]
  },
  {
   "cell_type": "code",
   "execution_count": 2,
   "metadata": {},
   "outputs": [],
   "source": [
    "building_meta_df =  pd.read_csv(\"buildings.csv\")\n",
    "building_info_df = pd.read_csv(\"building_info.csv\")\n",
    "building_price_history_df = pd.read_csv(\"building_pricing_history.csv\")\n",
    "building_unit_df = pd.read_csv(\"building_unit_data.csv\")"
   ]
  },
  {
   "cell_type": "markdown",
   "metadata": {},
   "source": [
    "**Merging building_meta_df, building_info_df and building_unit_df**"
   ]
  },
  {
   "cell_type": "code",
   "execution_count": 3,
   "metadata": {},
   "outputs": [],
   "source": [
    "merged_df = pd.merge(building_meta_df, building_info_df, left_on='id', right_on='id', how='left')\n",
    "merged_df.rename(columns={'id': 'building_id'}, inplace=True)\n",
    "merged_df = pd.merge(merged_df, building_unit_df, left_on='building_id', right_on='building_id', how='inner')"
   ]
  },
  {
   "cell_type": "markdown",
   "metadata": {},
   "source": [
    "**Extracting Chicago data**"
   ]
  },
  {
   "cell_type": "code",
   "execution_count": 4,
   "metadata": {},
   "outputs": [],
   "source": [
    "chicago_df = merged_df[merged_df.city == \"Chicago\"]\n",
    "chicago_df = chicago_df.reset_index()"
   ]
  },
  {
   "cell_type": "code",
   "execution_count": 5,
   "metadata": {},
   "outputs": [
    {
     "data": {
      "text/plain": [
       "(55490, 78)"
      ]
     },
     "execution_count": 5,
     "metadata": {},
     "output_type": "execute_result"
    }
   ],
   "source": [
    "chicago_df.shape"
   ]
  },
  {
   "cell_type": "markdown",
   "metadata": {},
   "source": [
    "**Dropping columns with more than 60% missing values**"
   ]
  },
  {
   "cell_type": "code",
   "execution_count": 6,
   "metadata": {},
   "outputs": [
    {
     "data": {
      "text/plain": [
       "39914"
      ]
     },
     "execution_count": 6,
     "metadata": {},
     "output_type": "execute_result"
    }
   ],
   "source": [
    "chicago_df['nearest_public_transportation'].isna().sum()"
   ]
  },
  {
   "cell_type": "code",
   "execution_count": 7,
   "metadata": {},
   "outputs": [
    {
     "data": {
      "text/plain": [
       "39248"
      ]
     },
     "execution_count": 7,
     "metadata": {},
     "output_type": "execute_result"
    }
   ],
   "source": [
    "chicago_df['nearest_convenience_store'].isna().sum()"
   ]
  },
  {
   "cell_type": "code",
   "execution_count": 8,
   "metadata": {},
   "outputs": [
    {
     "data": {
      "text/plain": [
       "39296"
      ]
     },
     "execution_count": 8,
     "metadata": {},
     "output_type": "execute_result"
    }
   ],
   "source": [
    "chicago_df['nearest_grocery_store'].isna().sum()"
   ]
  },
  {
   "cell_type": "code",
   "execution_count": 9,
   "metadata": {},
   "outputs": [],
   "source": [
    "to_drop = ['address',\n",
    "           'amenities',\n",
    "           'aptamigo',\n",
    "           'architect',\n",
    "           'available_date',\n",
    "           'balcony',\n",
    "           'city',\n",
    "           'company',\n",
    "           'company_id',\n",
    "           'concession_additional',\n",
    "           'concession_months_additional',\n",
    "           'cooperation_percentage',\n",
    "           'concession_source',\n",
    "           'concession_title',\n",
    "           'concession_update',\n",
    "           'created_at',\n",
    "           'created_on',\n",
    "           'data_source',\n",
    "           'description',\n",
    "           'email',\n",
    "           'floor',\n",
    "           'flooring',\n",
    "           'floorplan',\n",
    "           'hotspot',\n",
    "           'hotspot_description',\n",
    "           'hotspot_features',\n",
    "           'hotspot_neighbourhood',\n",
    "           'leasing_type',\n",
    "           'name',\n",
    "           'nearest_convenience_store',\n",
    "           'nearest_grocery_store',\n",
    "           'nearest_public_transportation',\n",
    "           'neighborhood_area',\n",
    "           'no_of_units',\n",
    "           'pet_policy',\n",
    "           'phone',\n",
    "           'price_change',\n",
    "           'scrape_id',\n",
    "           'scraped_on',\n",
    "           'scraper_complete',\n",
    "           'state',\n",
    "           'summary',\n",
    "           'type',\n",
    "           'unit_convert_balcony',\n",
    "           'unit_number',\n",
    "           'updated_on',\n",
    "           'website',\n",
    "           'website_data_in_images',\n",
    "           'website_needs_ui_navigation',\n",
    "           'website_reachable',\n",
    "           'zip'\n",
    "          \n",
    "          ]"
   ]
  },
  {
   "cell_type": "code",
   "execution_count": 10,
   "metadata": {},
   "outputs": [
    {
     "data": {
      "text/plain": [
       "(55490, 27)"
      ]
     },
     "execution_count": 10,
     "metadata": {},
     "output_type": "execute_result"
    }
   ],
   "source": [
    "chicago_df.drop(columns=to_drop, inplace=True)\n",
    "chicago_df.shape"
   ]
  },
  {
   "cell_type": "markdown",
   "metadata": {},
   "source": [
    "**Handling inconsistent data entries**"
   ]
  },
  {
   "cell_type": "code",
   "execution_count": 11,
   "metadata": {},
   "outputs": [],
   "source": [
    "chicago_df = chicago_df.drop(chicago_df.loc[(chicago_df['price'] <= 100) | \n",
    "                                      (chicago_df['sqft'] == 0) | \n",
    "                                      (chicago_df['beds'] > 3) |\n",
    "                                      (chicago_df['baths'] == 0)].index)"
   ]
  },
  {
   "cell_type": "code",
   "execution_count": 12,
   "metadata": {},
   "outputs": [],
   "source": [
    "def map_baths(row):\n",
    "    \n",
    "    if row['beds'] == 0:\n",
    "        return 1\n",
    "        \n",
    "    if row['baths'] > row['beds']:\n",
    "        return int(row['beds'])\n",
    "    \n",
    "    return int(row['baths'])"
   ]
  },
  {
   "cell_type": "code",
   "execution_count": 13,
   "metadata": {},
   "outputs": [],
   "source": [
    "chicago_df['baths'] = chicago_df.apply(map_baths, axis=1)"
   ]
  },
  {
   "cell_type": "code",
   "execution_count": 14,
   "metadata": {},
   "outputs": [],
   "source": [
    "def map_bed(row):\n",
    "    if row['beds'] == 0 and row['sqft'] > 615:\n",
    "        return 1\n",
    "    \n",
    "    if row['beds'] == 1 and row['sqft'] < 494:\n",
    "        return 0\n",
    "    \n",
    "    return int(row['beds'])"
   ]
  },
  {
   "cell_type": "code",
   "execution_count": 15,
   "metadata": {},
   "outputs": [],
   "source": [
    "chicago_df['beds'] = chicago_df.apply(map_bed, axis=1)"
   ]
  },
  {
   "cell_type": "code",
   "execution_count": 16,
   "metadata": {},
   "outputs": [
    {
     "data": {
      "text/html": [
       "<div>\n",
       "<style scoped>\n",
       "    .dataframe tbody tr th:only-of-type {\n",
       "        vertical-align: middle;\n",
       "    }\n",
       "\n",
       "    .dataframe tbody tr th {\n",
       "        vertical-align: top;\n",
       "    }\n",
       "\n",
       "    .dataframe thead tr th {\n",
       "        text-align: left;\n",
       "    }\n",
       "\n",
       "    .dataframe thead tr:last-of-type th {\n",
       "        text-align: right;\n",
       "    }\n",
       "</style>\n",
       "<table border=\"1\" class=\"dataframe\">\n",
       "  <thead>\n",
       "    <tr>\n",
       "      <th></th>\n",
       "      <th></th>\n",
       "      <th colspan=\"8\" halign=\"left\">sqft</th>\n",
       "    </tr>\n",
       "    <tr>\n",
       "      <th></th>\n",
       "      <th></th>\n",
       "      <th>count</th>\n",
       "      <th>mean</th>\n",
       "      <th>std</th>\n",
       "      <th>min</th>\n",
       "      <th>25%</th>\n",
       "      <th>50%</th>\n",
       "      <th>75%</th>\n",
       "      <th>max</th>\n",
       "    </tr>\n",
       "    <tr>\n",
       "      <th>beds</th>\n",
       "      <th>baths</th>\n",
       "      <th></th>\n",
       "      <th></th>\n",
       "      <th></th>\n",
       "      <th></th>\n",
       "      <th></th>\n",
       "      <th></th>\n",
       "      <th></th>\n",
       "      <th></th>\n",
       "    </tr>\n",
       "  </thead>\n",
       "  <tbody>\n",
       "    <tr>\n",
       "      <th>0</th>\n",
       "      <th>1</th>\n",
       "      <td>8970.0</td>\n",
       "      <td>504.360424</td>\n",
       "      <td>81.187161</td>\n",
       "      <td>208.0</td>\n",
       "      <td>452.0</td>\n",
       "      <td>522.0</td>\n",
       "      <td>570.00</td>\n",
       "      <td>615.0</td>\n",
       "    </tr>\n",
       "    <tr>\n",
       "      <th>1</th>\n",
       "      <th>1</th>\n",
       "      <td>23271.0</td>\n",
       "      <td>752.975893</td>\n",
       "      <td>151.460239</td>\n",
       "      <td>495.0</td>\n",
       "      <td>667.0</td>\n",
       "      <td>730.0</td>\n",
       "      <td>813.00</td>\n",
       "      <td>2703.0</td>\n",
       "    </tr>\n",
       "    <tr>\n",
       "      <th rowspan=\"2\" valign=\"top\">2</th>\n",
       "      <th>1</th>\n",
       "      <td>1204.0</td>\n",
       "      <td>914.375415</td>\n",
       "      <td>147.443124</td>\n",
       "      <td>336.0</td>\n",
       "      <td>830.0</td>\n",
       "      <td>904.0</td>\n",
       "      <td>990.75</td>\n",
       "      <td>2095.0</td>\n",
       "    </tr>\n",
       "    <tr>\n",
       "      <th>2</th>\n",
       "      <td>8142.0</td>\n",
       "      <td>1112.371899</td>\n",
       "      <td>212.615890</td>\n",
       "      <td>350.0</td>\n",
       "      <td>1029.0</td>\n",
       "      <td>1125.0</td>\n",
       "      <td>1220.00</td>\n",
       "      <td>2256.0</td>\n",
       "    </tr>\n",
       "    <tr>\n",
       "      <th rowspan=\"3\" valign=\"top\">3</th>\n",
       "      <th>1</th>\n",
       "      <td>101.0</td>\n",
       "      <td>1014.920792</td>\n",
       "      <td>168.183215</td>\n",
       "      <td>550.0</td>\n",
       "      <td>944.0</td>\n",
       "      <td>972.0</td>\n",
       "      <td>1003.00</td>\n",
       "      <td>2072.0</td>\n",
       "    </tr>\n",
       "    <tr>\n",
       "      <th>2</th>\n",
       "      <td>998.0</td>\n",
       "      <td>1275.053106</td>\n",
       "      <td>433.593827</td>\n",
       "      <td>400.0</td>\n",
       "      <td>890.0</td>\n",
       "      <td>1339.0</td>\n",
       "      <td>1589.00</td>\n",
       "      <td>3249.0</td>\n",
       "    </tr>\n",
       "    <tr>\n",
       "      <th>3</th>\n",
       "      <td>451.0</td>\n",
       "      <td>1757.197339</td>\n",
       "      <td>412.111219</td>\n",
       "      <td>594.0</td>\n",
       "      <td>1546.0</td>\n",
       "      <td>1768.0</td>\n",
       "      <td>1921.00</td>\n",
       "      <td>3445.0</td>\n",
       "    </tr>\n",
       "  </tbody>\n",
       "</table>\n",
       "</div>"
      ],
      "text/plain": [
       "               sqft                                                           \\\n",
       "              count         mean         std    min     25%     50%      75%   \n",
       "beds baths                                                                     \n",
       "0    1       8970.0   504.360424   81.187161  208.0   452.0   522.0   570.00   \n",
       "1    1      23271.0   752.975893  151.460239  495.0   667.0   730.0   813.00   \n",
       "2    1       1204.0   914.375415  147.443124  336.0   830.0   904.0   990.75   \n",
       "     2       8142.0  1112.371899  212.615890  350.0  1029.0  1125.0  1220.00   \n",
       "3    1        101.0  1014.920792  168.183215  550.0   944.0   972.0  1003.00   \n",
       "     2        998.0  1275.053106  433.593827  400.0   890.0  1339.0  1589.00   \n",
       "     3        451.0  1757.197339  412.111219  594.0  1546.0  1768.0  1921.00   \n",
       "\n",
       "                    \n",
       "               max  \n",
       "beds baths          \n",
       "0    1       615.0  \n",
       "1    1      2703.0  \n",
       "2    1      2095.0  \n",
       "     2      2256.0  \n",
       "3    1      2072.0  \n",
       "     2      3249.0  \n",
       "     3      3445.0  "
      ]
     },
     "execution_count": 16,
     "metadata": {},
     "output_type": "execute_result"
    }
   ],
   "source": [
    "chicago_df[['sqft', 'beds','baths']].groupby(['beds', 'baths']).describe()"
   ]
  },
  {
   "cell_type": "markdown",
   "metadata": {},
   "source": [
    "**Map unit_0_balcony, unit_1_balcony, unit_2_balcony, unit_2_balcony to unit_balcony**"
   ]
  },
  {
   "cell_type": "code",
   "execution_count": 17,
   "metadata": {},
   "outputs": [],
   "source": [
    "def map_balcony(row):\n",
    "    \n",
    "    if row['unit_0_balcony'] == 'Yes' and row['beds'] == 0:\n",
    "        return 1\n",
    "    \n",
    "    if row['unit_1_balcony'] == 'Yes' and row['beds'] == 1:\n",
    "        return 1\n",
    "    \n",
    "    if row['unit_2_balcony'] == 'Yes' and row['beds'] == 2:\n",
    "        return 1\n",
    "    \n",
    "    if row['unit_3_balcony'] == 'Yes' and row['beds'] == 3:\n",
    "        return 1\n",
    "      \n",
    "    return 0"
   ]
  },
  {
   "cell_type": "code",
   "execution_count": 18,
   "metadata": {},
   "outputs": [],
   "source": [
    "chicago_df['unit_balcony'] = chicago_df.apply(map_balcony, axis=1)"
   ]
  },
  {
   "cell_type": "markdown",
   "metadata": {},
   "source": [
    "After merging balcony info into one column we will drop the previous columns"
   ]
  },
  {
   "cell_type": "code",
   "execution_count": 19,
   "metadata": {},
   "outputs": [],
   "source": [
    "to_drop = ['unit_0_balcony',\n",
    "           'unit_1_balcony',\n",
    "           'unit_2_balcony',\n",
    "           'unit_3_balcony']"
   ]
  },
  {
   "cell_type": "code",
   "execution_count": 20,
   "metadata": {},
   "outputs": [
    {
     "data": {
      "text/plain": [
       "(43137, 24)"
      ]
     },
     "execution_count": 20,
     "metadata": {},
     "output_type": "execute_result"
    }
   ],
   "source": [
    "chicago_df.drop(columns=to_drop, inplace=True)\n",
    "chicago_df.shape"
   ]
  },
  {
   "cell_type": "markdown",
   "metadata": {},
   "source": [
    "**Map concession_0_bed, concession_1_bed, concession_2_bed, concession_3_bed to concession_beds**"
   ]
  },
  {
   "cell_type": "code",
   "execution_count": 21,
   "metadata": {},
   "outputs": [],
   "source": [
    "def map_concession(row):\n",
    "    \n",
    "    if row['beds'] == 0 and  np.isnan(row['concession_0_bed']) == False:\n",
    "        return row['concession_0_bed']\n",
    "    \n",
    "    if  row['beds'] == 1 and  np.isnan(row['concession_1_bed']) == False:\n",
    "        return row['concession_1_bed']\n",
    "    \n",
    "    if  row['beds'] == 2 and  np.isnan(row['concession_2_bed']) == False:\n",
    "        return row['concession_2_bed']\n",
    "    \n",
    "    if  row['beds'] == 3 and  np.isnan(row['concession_3_bed']) == False:\n",
    "        return row['concession_3_bed']\n",
    "    \n",
    "    \n",
    "    return None"
   ]
  },
  {
   "cell_type": "code",
   "execution_count": 22,
   "metadata": {},
   "outputs": [],
   "source": [
    "chicago_df['concession_unit'] = chicago_df.apply(map_concession, axis=1)"
   ]
  },
  {
   "cell_type": "code",
   "execution_count": 23,
   "metadata": {},
   "outputs": [],
   "source": [
    "chicago_df['concession_unit'].fillna(chicago_df['concession_unit'].mean(), inplace=True)"
   ]
  },
  {
   "cell_type": "markdown",
   "metadata": {},
   "source": [
    "After merging concession info into one column we will drop the previous columns"
   ]
  },
  {
   "cell_type": "code",
   "execution_count": 24,
   "metadata": {},
   "outputs": [],
   "source": [
    "to_drop = ['concession_0_bed',\n",
    "           'concession_1_bed',\n",
    "           'concession_2_bed',\n",
    "           'concession_3_bed'\n",
    "          ]"
   ]
  },
  {
   "cell_type": "code",
   "execution_count": 25,
   "metadata": {},
   "outputs": [
    {
     "data": {
      "text/plain": [
       "(43137, 21)"
      ]
     },
     "execution_count": 25,
     "metadata": {},
     "output_type": "execute_result"
    }
   ],
   "source": [
    "chicago_df.drop(columns=to_drop, inplace=True)\n",
    "chicago_df.shape"
   ]
  },
  {
   "cell_type": "markdown",
   "metadata": {},
   "source": [
    "**Binary Encoding**"
   ]
  },
  {
   "cell_type": "code",
   "execution_count": 26,
   "metadata": {},
   "outputs": [],
   "source": [
    "def map_washer_dryer(row):\n",
    "    if row['washer_dryer'] in [None, 'No']:\n",
    "        return 0\n",
    "\n",
    "    if row['washer_dryer'] in ['Yes', 'Select Units']:\n",
    "        return 1\n",
    "    \n",
    "    return 0"
   ]
  },
  {
   "cell_type": "code",
   "execution_count": 27,
   "metadata": {},
   "outputs": [],
   "source": [
    "chicago_df['washer_dryer'] = chicago_df.apply(map_washer_dryer, axis=1)"
   ]
  },
  {
   "cell_type": "code",
   "execution_count": 28,
   "metadata": {},
   "outputs": [],
   "source": [
    "def map_parking(row):\n",
    "    parking_terms = [\n",
    "        'Yes', 'Garage Parking', 'Attached Parking', \n",
    "        'Offsite Parking', 'Select Units', 'Assigned Parking'\n",
    "    ]\n",
    "    \n",
    "    if row['parking'] in [None, 'No']:\n",
    "        return 0\n",
    "\n",
    "    if row['parking'] in parking_terms:\n",
    "        return 1\n",
    "    \n",
    "    return 0"
   ]
  },
  {
   "cell_type": "code",
   "execution_count": 29,
   "metadata": {},
   "outputs": [],
   "source": [
    "chicago_df['parking'] = chicago_df.apply(map_parking, axis=1)"
   ]
  },
  {
   "cell_type": "code",
   "execution_count": 30,
   "metadata": {},
   "outputs": [],
   "source": [
    "def map_pool(row):\n",
    "    if row['pool'] in [None, 'No']:\n",
    "        return 0\n",
    "\n",
    "    if row['pool'] == 'Yes':\n",
    "        return 1\n",
    "    \n",
    "    return 0"
   ]
  },
  {
   "cell_type": "code",
   "execution_count": 31,
   "metadata": {},
   "outputs": [],
   "source": [
    "chicago_df['pool'] = chicago_df.apply(map_pool, axis=1)"
   ]
  },
  {
   "cell_type": "code",
   "execution_count": 32,
   "metadata": {},
   "outputs": [],
   "source": [
    "def map_tour_sunday(row):\n",
    "    if row['tour_sunday'] in [None, False]:\n",
    "        return 0\n",
    "\n",
    "    if row['tour_sunday'] == True:\n",
    "        return 1\n",
    "    \n",
    "    return 0\n",
    "    "
   ]
  },
  {
   "cell_type": "code",
   "execution_count": 33,
   "metadata": {},
   "outputs": [],
   "source": [
    "chicago_df['tour_sunday'] = chicago_df.apply(map_tour_sunday, axis=1)"
   ]
  },
  {
   "cell_type": "code",
   "execution_count": 34,
   "metadata": {},
   "outputs": [],
   "source": [
    "def map_short_term_lease(row):\n",
    "    if row['short_term_lease'] in [None, 'No']:\n",
    "        return 0\n",
    "\n",
    "    if row['short_term_lease'] == ['Sometimes', 'Yes', 'During Peak Season']:\n",
    "        return 1\n",
    "    \n",
    "    return 0\n",
    "    "
   ]
  },
  {
   "cell_type": "code",
   "execution_count": 35,
   "metadata": {},
   "outputs": [],
   "source": [
    "chicago_df['short_term_lease'] = chicago_df.apply(map_short_term_lease, axis=1)"
   ]
  },
  {
   "cell_type": "code",
   "execution_count": 36,
   "metadata": {},
   "outputs": [],
   "source": [
    "chicago_df['cooperate'] = chicago_df['cooperate'].map(lambda x: 1 if x == True else 0)"
   ]
  },
  {
   "cell_type": "markdown",
   "metadata": {},
   "source": [
    "**Removing outliers**"
   ]
  },
  {
   "cell_type": "code",
   "execution_count": 37,
   "metadata": {},
   "outputs": [
    {
     "data": {
      "image/png": "[encoded data removed]",
      "text/plain": [
       "<Figure size 432x288 with 1 Axes>"
      ]
     },
     "metadata": {
      "needs_background": "light"
     },
     "output_type": "display_data"
    }
   ],
   "source": [
    "plt.boxplot(chicago_df[['price', 'sqft']])\n",
    "plt.show()"
   ]
  },
  {
   "cell_type": "code",
   "execution_count": 38,
   "metadata": {},
   "outputs": [],
   "source": [
    "def find_outliers(df: pd.DataFrame) -> pd.DataFrame:\n",
    "    \"\"\"Find rows containing outliers with IQR\"\"\"\n",
    "    Q1 = df.quantile(0.25)\n",
    "    Q3 = df.quantile(0.75)\n",
    "    IQR = Q3 - Q1\n",
    "    return df[((df < (Q1 - 1.5 * IQR)) |(df > (Q3 + 1.5 * IQR))).any(axis=1)]"
   ]
  },
  {
   "cell_type": "code",
   "execution_count": 39,
   "metadata": {},
   "outputs": [],
   "source": [
    "def delete_rows(df: pd.DataFrame, to_delete: pd.DataFrame) -> pd.DataFrame:\n",
    "    \"\"\"Remove the subset of rows in to_delete from df and return\n",
    "     the resulting dataframe\n",
    "    \"\"\"\n",
    "    #df = df.copy()\n",
    "    \n",
    "    return df.drop(to_delete.index)"
   ]
  },
  {
   "cell_type": "code",
   "execution_count": 40,
   "metadata": {},
   "outputs": [],
   "source": [
    "chicago_df = delete_rows(chicago_df, find_outliers(chicago_df[['price', 'sqft']]))"
   ]
  },
  {
   "cell_type": "code",
   "execution_count": 41,
   "metadata": {},
   "outputs": [
    {
     "data": {
      "image/png": "[encoded data removed]",
      "text/plain": [
       "<Figure size 432x288 with 1 Axes>"
      ]
     },
     "metadata": {
      "needs_background": "light"
     },
     "output_type": "display_data"
    }
   ],
   "source": [
    "plt.boxplot(chicago_df[['price', 'sqft']])\n",
    "plt.show()"
   ]
  },
  {
   "cell_type": "markdown",
   "metadata": {},
   "source": [
    "**Calculating Average Price neighborhood_name**"
   ]
  },
  {
   "cell_type": "code",
   "execution_count": 42,
   "metadata": {},
   "outputs": [],
   "source": [
    "chicago_df['average_price_by_neighborhood'] = chicago_df.groupby(['neighborhood_name', \n",
    "                                                                  'beds'])['price'].transform('mean')"
   ]
  },
  {
   "cell_type": "markdown",
   "metadata": {},
   "source": [
    "**Handling Missing Values**"
   ]
  },
  {
   "cell_type": "code",
   "execution_count": 43,
   "metadata": {},
   "outputs": [
    {
     "data": {
      "text/plain": [
       "index                               0\n",
       "building_id                         0\n",
       "lat                                10\n",
       "lng                                10\n",
       "cooperate                           0\n",
       "neighborhood_name                 278\n",
       "washer_dryer                        0\n",
       "parking                             0\n",
       "short_term_lease                    0\n",
       "tour_sunday                         0\n",
       "year_built                       5860\n",
       "age                              5889\n",
       "pool                                0\n",
       "id                                  0\n",
       "beds                                0\n",
       "baths                               0\n",
       "sqft                                0\n",
       "price                               0\n",
       "net_price                        6321\n",
       "unit_balcony                        0\n",
       "concession_unit                     0\n",
       "average_price_by_neighborhood     278\n",
       "dtype: int64"
      ]
     },
     "execution_count": 43,
     "metadata": {},
     "output_type": "execute_result"
    }
   ],
   "source": [
    "chicago_df.isna().sum()"
   ]
  },
  {
   "cell_type": "markdown",
   "metadata": {},
   "source": [
    "Dropping null neighborhood name because if predicted will cause biasness"
   ]
  },
  {
   "cell_type": "code",
   "execution_count": 44,
   "metadata": {},
   "outputs": [],
   "source": [
    "chicago_df = chicago_df[chicago_df.neighborhood_name.notnull()]"
   ]
  },
  {
   "cell_type": "code",
   "execution_count": 45,
   "metadata": {},
   "outputs": [],
   "source": [
    "chicago_df = chicago_df[chicago_df.average_price_by_neighborhood.notnull()]"
   ]
  },
  {
   "cell_type": "code",
   "execution_count": 46,
   "metadata": {},
   "outputs": [
    {
     "data": {
      "text/plain": [
       "index                               0\n",
       "building_id                         0\n",
       "lat                                 0\n",
       "lng                                 0\n",
       "cooperate                           0\n",
       "neighborhood_name                   0\n",
       "washer_dryer                        0\n",
       "parking                             0\n",
       "short_term_lease                    0\n",
       "tour_sunday                         0\n",
       "year_built                       5708\n",
       "age                              5737\n",
       "pool                                0\n",
       "id                                  0\n",
       "beds                                0\n",
       "baths                               0\n",
       "sqft                                0\n",
       "price                               0\n",
       "net_price                        6249\n",
       "unit_balcony                        0\n",
       "concession_unit                     0\n",
       "average_price_by_neighborhood       0\n",
       "dtype: int64"
      ]
     },
     "execution_count": 46,
     "metadata": {},
     "output_type": "execute_result"
    }
   ],
   "source": [
    "chicago_df.isna().sum()"
   ]
  },
  {
   "cell_type": "code",
   "execution_count": 47,
   "metadata": {},
   "outputs": [
    {
     "data": {
      "text/plain": [
       "(40419, 22)"
      ]
     },
     "execution_count": 47,
     "metadata": {},
     "output_type": "execute_result"
    }
   ],
   "source": [
    "chicago_df.shape"
   ]
  },
  {
   "cell_type": "code",
   "execution_count": 48,
   "metadata": {},
   "outputs": [
    {
     "data": {
      "text/plain": [
       "index                              int64\n",
       "building_id                        int64\n",
       "lat                              float64\n",
       "lng                              float64\n",
       "cooperate                          int64\n",
       "neighborhood_name                 object\n",
       "washer_dryer                       int64\n",
       "parking                            int64\n",
       "short_term_lease                   int64\n",
       "tour_sunday                        int64\n",
       "year_built                        object\n",
       "age                              float64\n",
       "pool                               int64\n",
       "id                                 int64\n",
       "beds                               int64\n",
       "baths                              int64\n",
       "sqft                             float64\n",
       "price                            float64\n",
       "net_price                        float64\n",
       "unit_balcony                       int64\n",
       "concession_unit                  float64\n",
       "average_price_by_neighborhood    float64\n",
       "dtype: object"
      ]
     },
     "execution_count": 48,
     "metadata": {},
     "output_type": "execute_result"
    }
   ],
   "source": [
    "chicago_df.dtypes"
   ]
  },
  {
   "cell_type": "markdown",
   "metadata": {},
   "source": [
    "**Sqft Normalization**"
   ]
  },
  {
   "cell_type": "code",
   "execution_count": 49,
   "metadata": {},
   "outputs": [],
   "source": [
    "import pandas as pd\n",
    "from sklearn import preprocessing\n",
    "\n",
    "x = chicago_df[['sqft']].values\n"
   ]
  },
  {
   "cell_type": "code",
   "execution_count": 50,
   "metadata": {},
   "outputs": [],
   "source": [
    "min_max_scaler = preprocessing.MinMaxScaler()"
   ]
  },
  {
   "cell_type": "code",
   "execution_count": 51,
   "metadata": {},
   "outputs": [],
   "source": [
    "x_scaled = min_max_scaler.fit_transform(x)"
   ]
  },
  {
   "cell_type": "code",
   "execution_count": 52,
   "metadata": {},
   "outputs": [],
   "source": [
    "chicago_df['sqft_normalized'] = pd.DataFrame(x_scaled)"
   ]
  },
  {
   "cell_type": "markdown",
   "metadata": {},
   "source": [
    "**Sqft scaling**"
   ]
  },
  {
   "cell_type": "code",
   "execution_count": 53,
   "metadata": {},
   "outputs": [],
   "source": [
    "min_sqft = chicago_df[['sqft']].min()"
   ]
  },
  {
   "cell_type": "code",
   "execution_count": 54,
   "metadata": {},
   "outputs": [],
   "source": [
    "max_sqft = chicago_df[['sqft']].max()"
   ]
  },
  {
   "cell_type": "code",
   "execution_count": 55,
   "metadata": {},
   "outputs": [],
   "source": [
    "temp = chicago_df[['sqft']]"
   ]
  },
  {
   "cell_type": "code",
   "execution_count": 56,
   "metadata": {},
   "outputs": [],
   "source": [
    "temp -= min_sqft"
   ]
  },
  {
   "cell_type": "code",
   "execution_count": 57,
   "metadata": {},
   "outputs": [],
   "source": [
    "temp /= max_sqft\n"
   ]
  },
  {
   "cell_type": "code",
   "execution_count": 58,
   "metadata": {},
   "outputs": [],
   "source": [
    "chicago_df['sqft_scaled'] = temp"
   ]
  },
  {
   "cell_type": "markdown",
   "metadata": {},
   "source": [
    "**Sqft binning**"
   ]
  },
  {
   "cell_type": "code",
   "execution_count": 59,
   "metadata": {},
   "outputs": [
    {
     "data": {
      "text/plain": [
       "1365.0"
      ]
     },
     "execution_count": 59,
     "metadata": {},
     "output_type": "execute_result"
    }
   ],
   "source": [
    "chicago_df['sqft'].max()"
   ]
  },
  {
   "cell_type": "code",
   "execution_count": 60,
   "metadata": {},
   "outputs": [],
   "source": [
    "sqft_dict = {'200-300': 1,\n",
    "             '301-400': 2,\n",
    "             '401-500': 3,\n",
    "             '501-600': 4,\n",
    "             '601-700': 5,\n",
    "             '701-800': 6,\n",
    "             '801-900' : 7,\n",
    "             '901-1000': 8,\n",
    "             '1001-1100': 9,\n",
    "             '1101-1200': 10,\n",
    "             '1201-1300':11,\n",
    "             '1301-1400':12}"
   ]
  },
  {
   "cell_type": "code",
   "execution_count": 61,
   "metadata": {},
   "outputs": [],
   "source": [
    "cut_labels_5= [1, 2, 3, 4, 5, 6, 7, 8, 9, 10, 11, 12]\n",
    "cut_bins = [200, 300, 400, 500, 600, 700, 800, 900, 1000,1100, 1200, 1300,1400]\n",
    "chicago_df['sqft_ranges'] = pd.cut(chicago_df['sqft'], bins=cut_bins, labels=cut_labels_5)"
   ]
  },
  {
   "cell_type": "code",
   "execution_count": 62,
   "metadata": {},
   "outputs": [],
   "source": [
    "chicago_df['sqft_ranges'] = chicago_df['sqft_ranges'].astype(int)"
   ]
  },
  {
   "cell_type": "code",
   "execution_count": 63,
   "metadata": {},
   "outputs": [
    {
     "data": {
      "text/html": [
       "<div>\n",
       "<style scoped>\n",
       "    .dataframe tbody tr th:only-of-type {\n",
       "        vertical-align: middle;\n",
       "    }\n",
       "\n",
       "    .dataframe tbody tr th {\n",
       "        vertical-align: top;\n",
       "    }\n",
       "\n",
       "    .dataframe thead th {\n",
       "        text-align: right;\n",
       "    }\n",
       "</style>\n",
       "<table border=\"1\" class=\"dataframe\">\n",
       "  <thead>\n",
       "    <tr style=\"text-align: right;\">\n",
       "      <th></th>\n",
       "      <th>index</th>\n",
       "      <th>building_id</th>\n",
       "      <th>lat</th>\n",
       "      <th>lng</th>\n",
       "      <th>cooperate</th>\n",
       "      <th>neighborhood_name</th>\n",
       "      <th>washer_dryer</th>\n",
       "      <th>parking</th>\n",
       "      <th>short_term_lease</th>\n",
       "      <th>tour_sunday</th>\n",
       "      <th>...</th>\n",
       "      <th>baths</th>\n",
       "      <th>sqft</th>\n",
       "      <th>price</th>\n",
       "      <th>net_price</th>\n",
       "      <th>unit_balcony</th>\n",
       "      <th>concession_unit</th>\n",
       "      <th>average_price_by_neighborhood</th>\n",
       "      <th>sqft_normalized</th>\n",
       "      <th>sqft_scaled</th>\n",
       "      <th>sqft_ranges</th>\n",
       "    </tr>\n",
       "  </thead>\n",
       "  <tbody>\n",
       "    <tr>\n",
       "      <th>0</th>\n",
       "      <td>0</td>\n",
       "      <td>216</td>\n",
       "      <td>41.889181</td>\n",
       "      <td>-87.618089</td>\n",
       "      <td>1</td>\n",
       "      <td>Streeterville</td>\n",
       "      <td>0</td>\n",
       "      <td>0</td>\n",
       "      <td>0</td>\n",
       "      <td>0</td>\n",
       "      <td>...</td>\n",
       "      <td>1</td>\n",
       "      <td>661.0</td>\n",
       "      <td>1842.0</td>\n",
       "      <td>NaN</td>\n",
       "      <td>0</td>\n",
       "      <td>0.0</td>\n",
       "      <td>2287.550000</td>\n",
       "      <td>0.391530</td>\n",
       "      <td>0.331868</td>\n",
       "      <td>5</td>\n",
       "    </tr>\n",
       "    <tr>\n",
       "      <th>1</th>\n",
       "      <td>1</td>\n",
       "      <td>216</td>\n",
       "      <td>41.889181</td>\n",
       "      <td>-87.618089</td>\n",
       "      <td>1</td>\n",
       "      <td>Streeterville</td>\n",
       "      <td>0</td>\n",
       "      <td>0</td>\n",
       "      <td>0</td>\n",
       "      <td>0</td>\n",
       "      <td>...</td>\n",
       "      <td>1</td>\n",
       "      <td>854.0</td>\n",
       "      <td>2071.0</td>\n",
       "      <td>NaN</td>\n",
       "      <td>0</td>\n",
       "      <td>0.0</td>\n",
       "      <td>2287.550000</td>\n",
       "      <td>0.558341</td>\n",
       "      <td>0.473260</td>\n",
       "      <td>7</td>\n",
       "    </tr>\n",
       "    <tr>\n",
       "      <th>2</th>\n",
       "      <td>2</td>\n",
       "      <td>216</td>\n",
       "      <td>41.889181</td>\n",
       "      <td>-87.618089</td>\n",
       "      <td>1</td>\n",
       "      <td>Streeterville</td>\n",
       "      <td>0</td>\n",
       "      <td>0</td>\n",
       "      <td>0</td>\n",
       "      <td>0</td>\n",
       "      <td>...</td>\n",
       "      <td>1</td>\n",
       "      <td>500.0</td>\n",
       "      <td>1647.0</td>\n",
       "      <td>NaN</td>\n",
       "      <td>0</td>\n",
       "      <td>0.0</td>\n",
       "      <td>1674.873188</td>\n",
       "      <td>0.252377</td>\n",
       "      <td>0.213919</td>\n",
       "      <td>3</td>\n",
       "    </tr>\n",
       "    <tr>\n",
       "      <th>3</th>\n",
       "      <td>3</td>\n",
       "      <td>216</td>\n",
       "      <td>41.889181</td>\n",
       "      <td>-87.618089</td>\n",
       "      <td>1</td>\n",
       "      <td>Streeterville</td>\n",
       "      <td>0</td>\n",
       "      <td>0</td>\n",
       "      <td>0</td>\n",
       "      <td>0</td>\n",
       "      <td>...</td>\n",
       "      <td>2</td>\n",
       "      <td>1127.0</td>\n",
       "      <td>3045.0</td>\n",
       "      <td>3045.0</td>\n",
       "      <td>0</td>\n",
       "      <td>0.0</td>\n",
       "      <td>3196.539326</td>\n",
       "      <td>0.794296</td>\n",
       "      <td>0.673260</td>\n",
       "      <td>10</td>\n",
       "    </tr>\n",
       "    <tr>\n",
       "      <th>4</th>\n",
       "      <td>4</td>\n",
       "      <td>216</td>\n",
       "      <td>41.889181</td>\n",
       "      <td>-87.618089</td>\n",
       "      <td>1</td>\n",
       "      <td>Streeterville</td>\n",
       "      <td>0</td>\n",
       "      <td>0</td>\n",
       "      <td>0</td>\n",
       "      <td>0</td>\n",
       "      <td>...</td>\n",
       "      <td>1</td>\n",
       "      <td>500.0</td>\n",
       "      <td>1620.0</td>\n",
       "      <td>1620.0</td>\n",
       "      <td>0</td>\n",
       "      <td>0.0</td>\n",
       "      <td>1674.873188</td>\n",
       "      <td>0.252377</td>\n",
       "      <td>0.213919</td>\n",
       "      <td>3</td>\n",
       "    </tr>\n",
       "  </tbody>\n",
       "</table>\n",
       "<p>5 rows × 25 columns</p>\n",
       "</div>"
      ],
      "text/plain": [
       "   index  building_id        lat        lng  cooperate neighborhood_name  \\\n",
       "0      0          216  41.889181 -87.618089          1     Streeterville   \n",
       "1      1          216  41.889181 -87.618089          1     Streeterville   \n",
       "2      2          216  41.889181 -87.618089          1     Streeterville   \n",
       "3      3          216  41.889181 -87.618089          1     Streeterville   \n",
       "4      4          216  41.889181 -87.618089          1     Streeterville   \n",
       "\n",
       "   washer_dryer  parking  short_term_lease  tour_sunday  ... baths    sqft  \\\n",
       "0             0        0                 0            0  ...     1   661.0   \n",
       "1             0        0                 0            0  ...     1   854.0   \n",
       "2             0        0                 0            0  ...     1   500.0   \n",
       "3             0        0                 0            0  ...     2  1127.0   \n",
       "4             0        0                 0            0  ...     1   500.0   \n",
       "\n",
       "    price  net_price  unit_balcony  concession_unit  \\\n",
       "0  1842.0        NaN             0              0.0   \n",
       "1  2071.0        NaN             0              0.0   \n",
       "2  1647.0        NaN             0              0.0   \n",
       "3  3045.0     3045.0             0              0.0   \n",
       "4  1620.0     1620.0             0              0.0   \n",
       "\n",
       "   average_price_by_neighborhood  sqft_normalized  sqft_scaled  sqft_ranges  \n",
       "0                    2287.550000         0.391530     0.331868            5  \n",
       "1                    2287.550000         0.558341     0.473260            7  \n",
       "2                    1674.873188         0.252377     0.213919            3  \n",
       "3                    3196.539326         0.794296     0.673260           10  \n",
       "4                    1674.873188         0.252377     0.213919            3  \n",
       "\n",
       "[5 rows x 25 columns]"
      ]
     },
     "execution_count": 63,
     "metadata": {},
     "output_type": "execute_result"
    }
   ],
   "source": [
    "chicago_df.head()"
   ]
  },
  {
   "cell_type": "code",
   "execution_count": 64,
   "metadata": {},
   "outputs": [],
   "source": [
    "selected_features = ['id',\n",
    "                     'beds',\n",
    "                     'baths', \n",
    "                     'washer_dryer',\n",
    "                     'average_price_by_neighborhood',\n",
    "                     'neighborhood_name',\n",
    "                     'parking',\n",
    "                     'sqft', \n",
    "                     'price',\n",
    "                     'unit_balcony',\n",
    "                     'pool',\n",
    "                     'sqft_normalized',\n",
    "                     'sqft_scaled',\n",
    "                     'sqft_ranges',\n",
    "                     \n",
    "                                          \n",
    "                    ]"
   ]
  },
  {
   "cell_type": "code",
   "execution_count": 65,
   "metadata": {},
   "outputs": [],
   "source": [
    "chicago_df = chicago_df[selected_features]"
   ]
  },
  {
   "cell_type": "code",
   "execution_count": 66,
   "metadata": {},
   "outputs": [
    {
     "data": {
      "text/html": [
       "<div>\n",
       "<style scoped>\n",
       "    .dataframe tbody tr th:only-of-type {\n",
       "        vertical-align: middle;\n",
       "    }\n",
       "\n",
       "    .dataframe tbody tr th {\n",
       "        vertical-align: top;\n",
       "    }\n",
       "\n",
       "    .dataframe thead th {\n",
       "        text-align: right;\n",
       "    }\n",
       "</style>\n",
       "<table border=\"1\" class=\"dataframe\">\n",
       "  <thead>\n",
       "    <tr style=\"text-align: right;\">\n",
       "      <th></th>\n",
       "      <th>id</th>\n",
       "      <th>beds</th>\n",
       "      <th>baths</th>\n",
       "      <th>washer_dryer</th>\n",
       "      <th>average_price_by_neighborhood</th>\n",
       "      <th>neighborhood_name</th>\n",
       "      <th>parking</th>\n",
       "      <th>sqft</th>\n",
       "      <th>price</th>\n",
       "      <th>unit_balcony</th>\n",
       "      <th>pool</th>\n",
       "      <th>sqft_normalized</th>\n",
       "      <th>sqft_scaled</th>\n",
       "      <th>sqft_ranges</th>\n",
       "    </tr>\n",
       "  </thead>\n",
       "  <tbody>\n",
       "    <tr>\n",
       "      <th>0</th>\n",
       "      <td>189670</td>\n",
       "      <td>1</td>\n",
       "      <td>1</td>\n",
       "      <td>0</td>\n",
       "      <td>2287.550000</td>\n",
       "      <td>Streeterville</td>\n",
       "      <td>0</td>\n",
       "      <td>661.0</td>\n",
       "      <td>1842.0</td>\n",
       "      <td>0</td>\n",
       "      <td>1</td>\n",
       "      <td>0.391530</td>\n",
       "      <td>0.331868</td>\n",
       "      <td>5</td>\n",
       "    </tr>\n",
       "    <tr>\n",
       "      <th>1</th>\n",
       "      <td>189673</td>\n",
       "      <td>1</td>\n",
       "      <td>1</td>\n",
       "      <td>0</td>\n",
       "      <td>2287.550000</td>\n",
       "      <td>Streeterville</td>\n",
       "      <td>0</td>\n",
       "      <td>854.0</td>\n",
       "      <td>2071.0</td>\n",
       "      <td>0</td>\n",
       "      <td>1</td>\n",
       "      <td>0.558341</td>\n",
       "      <td>0.473260</td>\n",
       "      <td>7</td>\n",
       "    </tr>\n",
       "    <tr>\n",
       "      <th>2</th>\n",
       "      <td>189668</td>\n",
       "      <td>0</td>\n",
       "      <td>1</td>\n",
       "      <td>0</td>\n",
       "      <td>1674.873188</td>\n",
       "      <td>Streeterville</td>\n",
       "      <td>0</td>\n",
       "      <td>500.0</td>\n",
       "      <td>1647.0</td>\n",
       "      <td>0</td>\n",
       "      <td>1</td>\n",
       "      <td>0.252377</td>\n",
       "      <td>0.213919</td>\n",
       "      <td>3</td>\n",
       "    </tr>\n",
       "    <tr>\n",
       "      <th>3</th>\n",
       "      <td>288131</td>\n",
       "      <td>2</td>\n",
       "      <td>2</td>\n",
       "      <td>0</td>\n",
       "      <td>3196.539326</td>\n",
       "      <td>Streeterville</td>\n",
       "      <td>0</td>\n",
       "      <td>1127.0</td>\n",
       "      <td>3045.0</td>\n",
       "      <td>0</td>\n",
       "      <td>1</td>\n",
       "      <td>0.794296</td>\n",
       "      <td>0.673260</td>\n",
       "      <td>10</td>\n",
       "    </tr>\n",
       "    <tr>\n",
       "      <th>4</th>\n",
       "      <td>189669</td>\n",
       "      <td>0</td>\n",
       "      <td>1</td>\n",
       "      <td>0</td>\n",
       "      <td>1674.873188</td>\n",
       "      <td>Streeterville</td>\n",
       "      <td>0</td>\n",
       "      <td>500.0</td>\n",
       "      <td>1620.0</td>\n",
       "      <td>0</td>\n",
       "      <td>1</td>\n",
       "      <td>0.252377</td>\n",
       "      <td>0.213919</td>\n",
       "      <td>3</td>\n",
       "    </tr>\n",
       "  </tbody>\n",
       "</table>\n",
       "</div>"
      ],
      "text/plain": [
       "       id  beds  baths  washer_dryer  average_price_by_neighborhood  \\\n",
       "0  189670     1      1             0                    2287.550000   \n",
       "1  189673     1      1             0                    2287.550000   \n",
       "2  189668     0      1             0                    1674.873188   \n",
       "3  288131     2      2             0                    3196.539326   \n",
       "4  189669     0      1             0                    1674.873188   \n",
       "\n",
       "  neighborhood_name  parking    sqft   price  unit_balcony  pool  \\\n",
       "0     Streeterville        0   661.0  1842.0             0     1   \n",
       "1     Streeterville        0   854.0  2071.0             0     1   \n",
       "2     Streeterville        0   500.0  1647.0             0     1   \n",
       "3     Streeterville        0  1127.0  3045.0             0     1   \n",
       "4     Streeterville        0   500.0  1620.0             0     1   \n",
       "\n",
       "   sqft_normalized  sqft_scaled  sqft_ranges  \n",
       "0         0.391530     0.331868            5  \n",
       "1         0.558341     0.473260            7  \n",
       "2         0.252377     0.213919            3  \n",
       "3         0.794296     0.673260           10  \n",
       "4         0.252377     0.213919            3  "
      ]
     },
     "execution_count": 66,
     "metadata": {},
     "output_type": "execute_result"
    }
   ],
   "source": [
    "chicago_df.head()"
   ]
  },
  {
   "cell_type": "code",
   "execution_count": 67,
   "metadata": {},
   "outputs": [],
   "source": [
    "chicago_df.to_csv('data_with_id_and_neigbhorhood_name.csv', index=False)"
   ]
  },
  {
   "cell_type": "code",
   "execution_count": 68,
   "metadata": {},
   "outputs": [],
   "source": [
    "unit_id = chicago_df.id.tolist()"
   ]
  },
  {
   "cell_type": "markdown",
   "metadata": {},
   "source": [
    "**Pricing History Data Pre-processing**"
   ]
  },
  {
   "cell_type": "code",
   "execution_count": 69,
   "metadata": {},
   "outputs": [
    {
     "data": {
      "text/plain": [
       "(3924626, 4)"
      ]
     },
     "execution_count": 69,
     "metadata": {},
     "output_type": "execute_result"
    }
   ],
   "source": [
    "building_price_history_df.shape"
   ]
  },
  {
   "cell_type": "code",
   "execution_count": 70,
   "metadata": {},
   "outputs": [
    {
     "data": {
      "text/plain": [
       "id                      0\n",
       "price              269271\n",
       "available_date    3573698\n",
       "created_on              0\n",
       "dtype: int64"
      ]
     },
     "execution_count": 70,
     "metadata": {},
     "output_type": "execute_result"
    }
   ],
   "source": [
    "building_price_history_df.isna().sum()"
   ]
  },
  {
   "cell_type": "code",
   "execution_count": 71,
   "metadata": {},
   "outputs": [],
   "source": [
    "price_history_df = building_price_history_df.loc[(building_price_history_df['id'].isin(unit_id))]"
   ]
  },
  {
   "cell_type": "code",
   "execution_count": 72,
   "metadata": {},
   "outputs": [
    {
     "data": {
      "text/plain": [
       "(563224, 4)"
      ]
     },
     "execution_count": 72,
     "metadata": {},
     "output_type": "execute_result"
    }
   ],
   "source": [
    "price_history_df.shape"
   ]
  },
  {
   "cell_type": "code",
   "execution_count": 73,
   "metadata": {},
   "outputs": [
    {
     "name": "stderr",
     "output_type": "stream",
     "text": [
      "/home/maria/.local/lib/python3.9/site-packages/pandas/core/frame.py:4305: SettingWithCopyWarning: \n",
      "A value is trying to be set on a copy of a slice from a DataFrame\n",
      "\n",
      "See the caveats in the documentation: https://pandas.pydata.org/pandas-docs/stable/user_guide/indexing.html#returning-a-view-versus-a-copy\n",
      "  return super().drop(\n"
     ]
    }
   ],
   "source": [
    "price_history_df.drop(columns=['available_date'], inplace=True)"
   ]
  },
  {
   "cell_type": "code",
   "execution_count": 74,
   "metadata": {},
   "outputs": [],
   "source": [
    "price_history_df = price_history_df[price_history_df.price.notnull()]"
   ]
  },
  {
   "cell_type": "code",
   "execution_count": 75,
   "metadata": {},
   "outputs": [
    {
     "data": {
      "text/plain": [
       "id            0\n",
       "price         0\n",
       "created_on    0\n",
       "dtype: int64"
      ]
     },
     "execution_count": 75,
     "metadata": {},
     "output_type": "execute_result"
    }
   ],
   "source": [
    "price_history_df.isna().sum()"
   ]
  },
  {
   "cell_type": "code",
   "execution_count": 76,
   "metadata": {},
   "outputs": [
    {
     "data": {
      "text/plain": [
       "(525294, 3)"
      ]
     },
     "execution_count": 76,
     "metadata": {},
     "output_type": "execute_result"
    }
   ],
   "source": [
    "price_history_df.shape"
   ]
  },
  {
   "cell_type": "code",
   "execution_count": 77,
   "metadata": {},
   "outputs": [],
   "source": [
    "price_history_df = price_history_df.drop(price_history_df.loc[price_history_df['price'] <=100].index)"
   ]
  },
  {
   "cell_type": "code",
   "execution_count": 78,
   "metadata": {},
   "outputs": [
    {
     "data": {
      "text/plain": [
       "(522226, 3)"
      ]
     },
     "execution_count": 78,
     "metadata": {},
     "output_type": "execute_result"
    }
   ],
   "source": [
    "price_history_df.shape"
   ]
  },
  {
   "cell_type": "code",
   "execution_count": 79,
   "metadata": {},
   "outputs": [],
   "source": [
    "price_history_df.to_csv('price_history_chicago_data.csv', index=False)"
   ]
  },
  {
   "cell_type": "code",
   "execution_count": null,
   "metadata": {},
   "outputs": [],
   "source": []
  }
 ],
 "metadata": {
  "kernelspec": {
   "display_name": "Python 3",
   "language": "python",
   "name": "python3"
  },
  "language_info": {
   "codemirror_mode": {
    "name": "ipython",
    "version": 3
   },
   "file_extension": ".py",
   "mimetype": "text/x-python",
   "name": "python",
   "nbconvert_exporter": "python",
   "pygments_lexer": "ipython3",
   "version": "3.9.1"
  }
 },
 "nbformat": 4,
 "nbformat_minor": 4
}
